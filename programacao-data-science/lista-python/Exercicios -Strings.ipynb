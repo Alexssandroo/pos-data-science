{
 "cells": [
  {
   "cell_type": "markdown",
   "metadata": {},
   "source": [
    "Em todos os exercícios iremos utilizar o conceito de variáveis para armazenar os valores que iremos operar.\n",
    "Você poderá fazer isso de duas maneiras:\n",
    "1. Declarando diretamente a variável.\n",
    "```python\n",
    "x = 1\n",
    "```\n",
    "2. Utilizando o comando input para salvar o valor na hora da execução.\n",
    "```python\n",
    "x = input('Entre com um valor:')\n",
    "# O comando input salva uma string, para operar com números deve-se converter para o tipo desejado.\n",
    "x = int(input('Entre com um valor:'))\n",
    "x = float(input('Entre com um valor:'))\n",
    "```\n",
    "Leia bem o enunciado e utilize a maneira que você achar mais apropriada a ser utilizada no problema proposto.\n",
    "\n",
    "Se for necessário criar uma função (estrutura que repete um conjunto de operações), utilize a estrutura básica a seguir como exemplo.\n",
    "```python\n",
    "def funcao_qualquer(x,y):\n",
    "    z = x + y\n",
    "    return z\n",
    "```"
   ]
  },
  {
   "cell_type": "code",
   "execution_count": 5,
   "metadata": {},
   "outputs": [
    {
     "name": "stdout",
     "output_type": "stream",
     "text": [
      "True\n"
     ]
    }
   ],
   "source": [
    "# 1. Faça um programa que leia uma palavra e diga se é palíndroma. \n",
    "# Uma palavra é palíndroma se é idêntica quando lida de trás  \n",
    "# para diante. Por exemplo, \"reler\" é um palíndromo.\n",
    "\n",
    "def is_palindromo(palavra):\n",
    "    if palavra[::-1] == palavra:\n",
    "        return True\n",
    "    else :\n",
    "        return False\n",
    "print(is_palindromo('reler'))\n",
    "    "
   ]
  },
  {
   "cell_type": "code",
   "execution_count": 12,
   "metadata": {},
   "outputs": [
    {
     "name": "stdout",
     "output_type": "stream",
     "text": [
      "True\n"
     ]
    }
   ],
   "source": [
    "# 2. Repita o exercício acima, mas agora com frases palíndromas. \n",
    "# A única dificuldade a mais deste exercício reside em desconsiderar os espaços em branco. \n",
    "#Por exemplo, a frase \"SOCORRAM ME SUBI NO ONIBUS EM MARROCOS\" é palíndroma de si própria.\n",
    "\n",
    "exemplo = \"SOCORRAM ME SUBI NO ONIBUS EM MARROCOS\"\n",
    "\n",
    "def is_palindromo(frase):\n",
    "    removedspaces = frase.replace(\" \", \"\")\n",
    "    if removedspaces[::-1] == removedspaces:\n",
    "        return True\n",
    "    else :\n",
    "        return False\n",
    "    \n",
    "print(is_palindromo(exemplo))\n"
   ]
  },
  {
   "cell_type": "code",
   "execution_count": 15,
   "metadata": {},
   "outputs": [
    {
     "data": {
      "text/plain": [
       "True"
      ]
     },
     "execution_count": 15,
     "metadata": {},
     "output_type": "execute_result"
    }
   ],
   "source": [
    "# 3. Repita os exercícios acima, mas agora testando se palavras e frases são anagramas. Um anagrama de uma palavra é outra \n",
    "# palavra escrita com os mesmos caracteres. Por exemplo, \"porta\" e \"tropa\" são anagramas. Obs.: claro está que todas as \n",
    "# palindromas são também anagramas.\n",
    "\n",
    "def is_anagrama(palavra1, palavra2):\n",
    "    p1_replaced = palavra1.replace(\" \", \"\")\n",
    "    p2_replaced = palavra2.replace(\" \", \"\")\n",
    "    if len(p1_replaced)==len(p1_replaced):\n",
    "        anagrama = False\n",
    "        for i in p1_replaced:\n",
    "            if p1_replaced.count(i) == p2_replaced.count(i) & p2_replaced.count(i) == p1_replaced.count(i):\n",
    "                anagrama = True\n",
    "            else:\n",
    "                anagrama = False\n",
    "                break\n",
    "        return anagrama\n",
    "    else :\n",
    "        return False\n",
    "\n",
    "is_anagrama('porta', 'tropa')"
   ]
  },
  {
   "cell_type": "code",
   "execution_count": 24,
   "metadata": {},
   "outputs": [
    {
     "data": {
      "text/plain": [
       "'1aBACATEaBERTOaBOCANHADO'"
      ]
     },
     "execution_count": 24,
     "metadata": {},
     "output_type": "execute_result"
    }
   ],
   "source": [
    "'''\n",
    "    4. Resolva o problema.\n",
    "    Entrada: Uma sequencia qualquer de caracteres.\n",
    "    Saída:\n",
    "    Se o primeiro caracter for um número: trocar as letras maiúsculas por minúsculas e vice-versa.\n",
    "    Se o primeiro caracter for uma letra maiúscula: toda a sequencia maiúscula.\n",
    "    Se o primeiro caracter for uma letra minúscula: toda a sequencia minúscula.\n",
    "    Se não for nenhum dos casos acima deverá inverter a sequencia de caracteres.\n",
    "'''\n",
    "\n",
    "def mixa_caracteres(sequencia):\n",
    "    char1 = sequencia[0]\n",
    "    if char1.isdigit():\n",
    "        return sequencia.swapcase()\n",
    "    elif char1.isupper():\n",
    "        return sequencia.upper()\n",
    "    elif char1.islower():\n",
    "        return sequencia.lower()\n",
    "    else:\n",
    "        return False\n",
    "\n",
    "mixa_caracteres('1AbacateAbertoAbocanhado') "
   ]
  },
  {
   "cell_type": "code",
   "execution_count": 48,
   "metadata": {},
   "outputs": [
    {
     "data": {
      "text/plain": [
       "'Você nasceu em 02 de Feveiro de 1992'"
      ]
     },
     "execution_count": 48,
     "metadata": {},
     "output_type": "execute_result"
    }
   ],
   "source": [
    "# 5. Faça um programa que solicite a data de nascimento (dd/mm/aaaa) do usuário \n",
    "# e imprima a data com o nome do mês por extenso.\n",
    "# Data de Nascimento: 29/10/1973\n",
    "# Você nasceu em  29 de Outubro de 1973.\n",
    "\n",
    "def formata_data(data):\n",
    "    meses = {'01':'Janeiro',\n",
    "            '02':'Feveiro',\n",
    "            '03':'Março',\n",
    "            '04':'Abril',\n",
    "            '05':'Maio',\n",
    "            '06':'Junho',\n",
    "            '07':'Julho',\n",
    "            '08':'Agosto',\n",
    "            '09':'Setembro',\n",
    "            '10':'Outubro',\n",
    "            '11':'Novembro',\n",
    "            '12':'Dezembro'}\n",
    "    mes = meses[data.split('/')[1]]\n",
    "    return('Você nasceu em {dia} de {mes} de {ano}'.format(\n",
    "        dia=data.split('/')[1],\n",
    "        mes=mes,\n",
    "        ano=data.split('/')[2]))\n",
    "\n",
    "formata_data(input('Informe a data : '))"
   ]
  },
  {
   "cell_type": "code",
   "execution_count": 54,
   "metadata": {},
   "outputs": [
    {
     "data": {
      "text/plain": [
       "'reinicia$'"
      ]
     },
     "execution_count": 54,
     "metadata": {},
     "output_type": "execute_result"
    }
   ],
   "source": [
    "# 6. Escreva um programa em Python que recebe uma string e substitui todas as ocorrências \n",
    "# do primeiro caracter por $ com exceção do próprio primeiro.\n",
    "# String Exemplo : 'reiniciar'\n",
    "# Resultado Esperado : 'reinicia$'\n",
    "\n",
    "def modifica_ocorrencias(texto):\n",
    "    return texto[:1]+texto[1:].replace(texto[:1],'$')\n",
    "    \n",
    "modifica_ocorrencias('reiniciar')    "
   ]
  },
  {
   "cell_type": "raw",
   "metadata": {},
   "source": [
    "7. Escreva um programa em Python para calcular o tamanho de uma string. Tente fazer sem utilizar a função len."
   ]
  },
  {
   "cell_type": "raw",
   "metadata": {},
   "source": [
    "8. Crie uma função em Python que recebe uma lista de palavras e retorna o tamanho e a palavra mais longa."
   ]
  },
  {
   "cell_type": "raw",
   "metadata": {},
   "source": [
    "9. Escreva um programa em Python para remover os caracteres que tem o índice impar numa determinada string."
   ]
  },
  {
   "cell_type": "raw",
   "metadata": {},
   "source": [
    "10. Escreva uma função em Python para criar uma string HTML com as tags em volta das palavras.the word(s). \n",
    "Função exemplo e resultado: \n",
    "adicionar_tags('i', 'Python') -> '<i>Python</i>'\n",
    "adicionar_tags('b', 'Python Tutorial') -> '<b>Python Tutorial </b>'"
   ]
  },
  {
   "cell_type": "raw",
   "metadata": {},
   "source": [
    "11. Escreva um programa em Python para converter uma determinada string em letras maiúsculas se 2 dentre os 4 primeiros caracteres forem maiúsculos."
   ]
  },
  {
   "cell_type": "raw",
   "metadata": {},
   "source": [
    "12. Escreva um programa em Python para mostrar um texto formatado (largura=50) como saída."
   ]
  },
  {
   "cell_type": "raw",
   "metadata": {},
   "source": [
    "13. Escreva um programa em Python para mostrar um número em ponto flutuante com até 2 casas decimais."
   ]
  },
  {
   "cell_type": "raw",
   "metadata": {},
   "source": [
    "14. Escreva um programa em Python para mostrar um número em ponto flutuante com até 2 casas decimais e com o sinal indicando se é positivo ou negativo."
   ]
  },
  {
   "cell_type": "raw",
   "metadata": {},
   "source": [
    "15. Escreva um programa em Python para mostrar um número em ponto flutuante sem casas decimais."
   ]
  },
  {
   "cell_type": "raw",
   "metadata": {},
   "source": [
    "16. Escreva um programa em Python para formatar um número como porcentagem."
   ]
  },
  {
   "cell_type": "raw",
   "metadata": {},
   "source": [
    "17. Escreva um programa em Python para mostrar um número com uma largura de 10 e alinhado a esquerda, a direita e no centro."
   ]
  },
  {
   "cell_type": "raw",
   "metadata": {},
   "source": [
    "18. Escreva um programa em Python para contar o número de ocorrências de uma substring dentro de uma string."
   ]
  },
  {
   "cell_type": "raw",
   "metadata": {},
   "source": [
    "19. Escreva um programa em Python que inverte as palavras dentro de uma string."
   ]
  },
  {
   "cell_type": "raw",
   "metadata": {},
   "source": [
    "20. Escreva um programa em Python que troca a virgula e o ponto em uma string\n",
    "Exemplo: \"32.054,23\"\n",
    "Resultado: \"32,054.23\""
   ]
  },
  {
   "cell_type": "raw",
   "metadata": {},
   "source": [
    "21. Escreva um programa em Python para contar o número de vogais em um determinado texto."
   ]
  },
  {
   "cell_type": "raw",
   "metadata": {},
   "source": [
    "22. Escreva um programa em Python para dividir uma string na última ocorrencia de um delimitador."
   ]
  },
  {
   "cell_type": "raw",
   "metadata": {},
   "source": [
    "23. Escreva um programa em Python para achar o primeiro caracter repetido numa determinada string."
   ]
  },
  {
   "cell_type": "raw",
   "metadata": {},
   "source": [
    "24. Escreva um programa em Python para remover os espaços em branco em uma determinada string."
   ]
  },
  {
   "cell_type": "raw",
   "metadata": {},
   "source": [
    "25. Escreva um programa em Python para capitalizar (colocar a letra maiúscula) a primeira e última letra de cada palavra de uma determinada string."
   ]
  }
 ],
 "metadata": {
  "kernelspec": {
   "display_name": "Python 3",
   "language": "python",
   "name": "python3"
  },
  "language_info": {
   "codemirror_mode": {
    "name": "ipython",
    "version": 3
   },
   "file_extension": ".py",
   "mimetype": "text/x-python",
   "name": "python",
   "nbconvert_exporter": "python",
   "pygments_lexer": "ipython3",
   "version": "3.5.2"
  },
  "varInspector": {
   "cols": {
    "lenName": 16,
    "lenType": 16,
    "lenVar": 40
   },
   "kernels_config": {
    "python": {
     "delete_cmd_postfix": "",
     "delete_cmd_prefix": "del ",
     "library": "var_list.py",
     "varRefreshCmd": "print(var_dic_list())"
    },
    "r": {
     "delete_cmd_postfix": ") ",
     "delete_cmd_prefix": "rm(",
     "library": "var_list.r",
     "varRefreshCmd": "cat(var_dic_list()) "
    }
   },
   "types_to_exclude": [
    "module",
    "function",
    "builtin_function_or_method",
    "instance",
    "_Feature"
   ],
   "window_display": false
  }
 },
 "nbformat": 4,
 "nbformat_minor": 2
}
