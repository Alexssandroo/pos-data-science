{
 "cells": [
  {
   "cell_type": "markdown",
   "metadata": {
    "slideshow": {
     "slide_type": "-"
    }
   },
   "source": [
    "Em todos os exercícios iremos utilizar o conceito de variáveis para armazenar os valores que iremos operar.\n",
    "Você poderá fazer isso de duas maneiras:\n",
    "1. Declarando diretamente a variável.\n",
    "```python\n",
    "x = 1\n",
    "```\n",
    "2. Utilizando o comando input para salvar o valor na hora da execução.\n",
    "```python\n",
    "x = input('Entre com um valor:')\n",
    "# O comando input salva uma string, para operar com números deve-se converter para o tipo desejado.\n",
    "x = int(input('Entre com um valor:'))\n",
    "x = float(input('Entre com um valor:'))\n",
    "```\n",
    "Leia bem o enunciado e utilize a maneira que você achar mais apropriada a ser utilizada no problema proposto.\n",
    "\n",
    "Se for necessário criar uma função (estrutura que repete um conjunto de operações), utilize a estrutura básica a seguir como exemplo.\n",
    "```python\n",
    "def funcao_qualquer(x,y):\n",
    "    z = x + y\n",
    "    return z\n",
    "```"
   ]
  },
  {
   "cell_type": "raw",
   "metadata": {},
   "source": [
    "1. Escreva um programa para adicionar um item a um dicionário.\n",
    "Exemplo : {0: 10, 1: 20}\n",
    "Resultado : {0: 10, 1: 20, 2: 30}"
   ]
  },
  {
   "cell_type": "code",
   "execution_count": 31,
   "metadata": {},
   "outputs": [
    {
     "name": "stdout",
     "output_type": "stream",
     "text": [
      "{1: '1', 2: '2'}\n"
     ]
    }
   ],
   "source": [
    "indice = 1\n",
    "dicionario = {}\n",
    "repete = 0\n",
    "while repete == 0:\n",
    "    valor = input('Entre com um valor:')\n",
    "    dicionario[indice] = valor\n",
    "    indice += 1 \n",
    "    loop = input('Deseja incluir outro valor ? (Y/N):')\n",
    "    if loop == 'N':\n",
    "        repete = 1\n",
    "print(dicionario)"
   ]
  },
  {
   "cell_type": "raw",
   "metadata": {},
   "source": [
    "2. Escreva um programa para concatenar os seguintes dicionários para criar um novo.\n",
    "Exemplos:\n",
    "dic1={1:10, 2:20} \n",
    "dic2={3:30, 4:40} \n",
    "dic3={5:50,6:60}\n",
    "Resultado : {1: 10, 2: 20, 3: 30, 4: 40, 5: 50, 6: 60}"
   ]
  },
  {
   "cell_type": "code",
   "execution_count": 18,
   "metadata": {},
   "outputs": [
    {
     "name": "stdout",
     "output_type": "stream",
     "text": [
      "{1: 10, 2: 20, 3: 30, 4: 40, 5: 50, 6: 60}\n"
     ]
    }
   ],
   "source": [
    "dic1={1:10, 2:20} \n",
    "dic2={3:30, 4:40} \n",
    "dic3={5:50,6:60}\n",
    "dict4 = {}\n",
    "dict4.update(dic1)\n",
    "dict4.update(dic2)\n",
    "dict4.update(dic3)\n",
    "print(dict4)\n"
   ]
  },
  {
   "cell_type": "raw",
   "metadata": {},
   "source": [
    "3. Crie um script para verificar se uma chave já existe no dicionário."
   ]
  },
  {
   "cell_type": "code",
   "execution_count": 67,
   "metadata": {},
   "outputs": [
    {
     "name": "stdout",
     "output_type": "stream",
     "text": [
      "A chave 1 foi encontrada.\n"
     ]
    }
   ],
   "source": [
    "dicionario = {'1': '10', '2': '20', '3': '30'}\n",
    "\n",
    "chave = input('Que chave deseja consultar :')\n",
    "if chave in dicionario:\n",
    "    print('A chave {chave} foi encontrada.'.format(chave=chave))\n",
    "else :\n",
    "    print('A chave {chave} não foi encontrada.'.format(chave=chave))\n"
   ]
  },
  {
   "cell_type": "raw",
   "metadata": {},
   "source": [
    "4. Escreva um algoritmo para gerar e imprima um dicionário que contenha os números entre 1 e n na forma (x , x*x).\n",
    "Exemplo ( n = 5) : \n",
    "Resultado : {1: 1, 2: 4, 3: 9, 4: 16, 5: 25}"
   ]
  },
  {
   "cell_type": "code",
   "execution_count": 66,
   "metadata": {
    "slideshow": {
     "slide_type": "-"
    }
   },
   "outputs": [
    {
     "name": "stdout",
     "output_type": "stream",
     "text": [
      "{1: 1, 2: 4}\n"
     ]
    }
   ],
   "source": [
    "qtd_interacoes = int(input('Quantas interações ? '))\n",
    "dicionario = {}\n",
    "indice = 1\n",
    "\n",
    "def retornavalores(valor):\n",
    "    return valor ** 2\n",
    "\n",
    "while qtd_interacoes >= 1 :   \n",
    "    dicionario[indice] = retornavalores(indice)\n",
    "    indice += 1 \n",
    "    qtd_interacoes -= 1\n",
    "\n",
    "print(dicionario)\n"
   ]
  },
  {
   "cell_type": "raw",
   "metadata": {},
   "source": [
    "5. Escreva um programa um programa para iterar nos dicionários usando um laço for."
   ]
  },
  {
   "cell_type": "code",
   "execution_count": 78,
   "metadata": {},
   "outputs": [
    {
     "name": "stdout",
     "output_type": "stream",
     "text": [
      "10\n",
      "20\n",
      "30\n",
      "40\n",
      "50\n",
      "60\n"
     ]
    }
   ],
   "source": [
    "dicionario = {1: 10, 2: 20, 3: 30, 4: 40, 5: 50, 6: 60}\n",
    "\n",
    "for i in range(1,len(dicionario)+1) : \n",
    "    print(dicionario[i])"
   ]
  },
  {
   "cell_type": "raw",
   "metadata": {},
   "source": [
    "6. Escreva um programa para somar todos os itens de um dicionário."
   ]
  },
  {
   "cell_type": "code",
   "execution_count": 81,
   "metadata": {},
   "outputs": [
    {
     "name": "stdout",
     "output_type": "stream",
     "text": [
      "10\n",
      "30\n",
      "60\n",
      "100\n",
      "150\n",
      "210\n"
     ]
    }
   ],
   "source": [
    "dicionario = {1: 10, 2: 20, 3: 30, 4: 40, 5: 50, 6: 60}\n",
    "total = 0\n",
    "\n",
    "for i in range(1,len(dicionario)+1) : \n",
    "    total += dicionario[i] \n",
    "    print(total)"
   ]
  },
  {
   "cell_type": "raw",
   "metadata": {},
   "source": [
    "7. Escreva um programa para multiplicar todos os itens de um dicionário."
   ]
  },
  {
   "cell_type": "code",
   "execution_count": 88,
   "metadata": {},
   "outputs": [
    {
     "name": "stdout",
     "output_type": "stream",
     "text": [
      " O total das multiplicacoes foi : 6 \n"
     ]
    }
   ],
   "source": [
    "dicionario = {1: 1, 2: 2, 3: 3}\n",
    "total = 0\n",
    "\n",
    "for i in range(1,len(dicionario)+1) : \n",
    "    if i == 1:\n",
    "        total = dicionario[i]\n",
    "    else :\n",
    "        total *= dicionario[i]\n",
    "\n",
    "print(' O total das multiplicacoes foi : {total} '.format(total=total))"
   ]
  },
  {
   "cell_type": "raw",
   "metadata": {},
   "source": [
    "8. Escreva um programa para remover uma chave de um dicionário."
   ]
  },
  {
   "cell_type": "code",
   "execution_count": 90,
   "metadata": {},
   "outputs": [
    {
     "name": "stdout",
     "output_type": "stream",
     "text": [
      "{1: 10, 2: 20, 3: 30, 4: 40, 5: 50}\n"
     ]
    }
   ],
   "source": [
    "dicionario = {1: 10, 2: 20, 3: 30, 4: 40, 5: 50, 6: 60}\n",
    "\n",
    "chave = input('Escolha a posicao que deseja remover : ')\n",
    "\n",
    "dicionario.pop(int(chave))\n",
    "print(dicionario)"
   ]
  },
  {
   "cell_type": "raw",
   "metadata": {},
   "source": [
    "9. Escreva um programa para mapear 2 listas em um dicionário. "
   ]
  },
  {
   "cell_type": "code",
   "execution_count": 94,
   "metadata": {},
   "outputs": [
    {
     "name": "stdout",
     "output_type": "stream",
     "text": [
      "{1: 10, 2: 20, 3: 30}\n"
     ]
    }
   ],
   "source": [
    "lista1 = [1 , 2 , 3 ]\n",
    "lista2 = [10, 20, 30]\n",
    "\n",
    "dicionario = dict(zip(lista1, lista2))\n",
    "print(dicionario)"
   ]
  },
  {
   "cell_type": "raw",
   "metadata": {},
   "source": [
    "10. Escreva um programa para pegar o maior e o menor valor em um dicionário."
   ]
  },
  {
   "cell_type": "code",
   "execution_count": 98,
   "metadata": {},
   "outputs": [
    {
     "name": "stdout",
     "output_type": "stream",
     "text": [
      "maior : 60, menor 10\n"
     ]
    }
   ],
   "source": [
    "dicionario = {1: 10, 2: 20, 3: 30, 4: 40, 5: 50, 6: 60}\n",
    "maior = 0\n",
    "menor = 0\n",
    "\n",
    "for i in range(1,len(dicionario)+1) : \n",
    "    if i == 1:\n",
    "        menor = dicionario[i]\n",
    "        maior = dicionario[i]\n",
    "    elif dicionario[i]<menor:\n",
    "        menor = dicionario[i]\n",
    "    elif dicionario[i]>maior:\n",
    "        maior = dicionario[i]\n",
    "\n",
    "print('maior : {maior}, menor {menor}'.format(maior=maior, menor=menor))"
   ]
  },
  {
   "cell_type": "raw",
   "metadata": {},
   "source": [
    "11. Escreva um programa para combinar dois dicionários e somar os valores das chaves comuns.\n",
    "d1 = {'a': 100, 'b': 200, 'c':300}\n",
    "d2 = {'a': 300, 'b': 200, 'd':400}\n",
    "Resultado: {'a': 400, 'b': 400, 'd': 400, 'c': 300}"
   ]
  },
  {
   "cell_type": "code",
   "execution_count": 40,
   "metadata": {},
   "outputs": [
    {
     "name": "stdout",
     "output_type": "stream",
     "text": [
      "{'a': 400, 'd': 400, 'c': 300, 'b': 400}\n"
     ]
    }
   ],
   "source": [
    "d1 = {'a': 100, 'b': 200, 'c':300}\n",
    "d2 = {'a': 300, 'b': 200, 'd':400}\n",
    "dict_final = {}\n",
    "\n",
    "# unindo os dois dicionarios\n",
    "dict_final.update(d1)\n",
    "dict_final.update(d2)\n",
    "\n",
    "# Para cada chave no dicionario soma-se\n",
    "# o valor equivalente no segundo dicionario.\n",
    "for i in dict_final.keys():\n",
    "    dict_final[i] = d1.get(i, 0) + d2.get(i, 0)\n",
    "    \n",
    "print(dict_final)"
   ]
  },
  {
   "cell_type": "raw",
   "metadata": {},
   "source": [
    "12. Escreva um programa que retorna todos os valore únicos no dicionário.\n",
    "Exemplo: [{\"V\":\"S001\"}, {\"V\": \"S002\"}, {\"VI\": \"S001\"}, {\"VI\": \"S005\"}, {\"VII\":\"S005\"}, {\"V\":\"S009\"},{\"VIII\":\"S007\"}]\n",
    "Resultado Esperado : Valores únicos: 'S005', 'S002', 'S007', 'S001', 'S009'"
   ]
  },
  {
   "cell_type": "code",
   "execution_count": 103,
   "metadata": {},
   "outputs": [
    {
     "name": "stdout",
     "output_type": "stream",
     "text": [
      "['S001', 'S002', 'S005', 'S009', 'S007']\n"
     ]
    }
   ],
   "source": [
    "lista = [{\"V\":\"S001\"}, {\"V\": \"S002\"}, {\"VI\": \"S001\"}, {\"VI\": \"S005\"}, {\"VII\":\"S005\"}, {\"V\":\"S009\"},{\"VIII\":\"S007\"}]\n",
    "lista2 = []\n",
    "for i in lista:\n",
    "    valor =  list(dict(i).values())\n",
    "    if valor[0] not in lista2:\n",
    "        lista2.append(valor[0])\n",
    "print(lista2)"
   ]
  },
  {
   "cell_type": "raw",
   "metadata": {},
   "source": [
    "13. Escreva um programa  para combinar valores em uma lista de dicionários.\n",
    "Dados exemplos: [{'item': 'item1', 'amount': 400}, {'item': 'item2', 'amount': 300}, {'item': 'item1', 'amount': 750}]\n",
    "Resultado: {'item1': 1150, 'item2': 300}"
   ]
  },
  {
   "cell_type": "code",
   "execution_count": 179,
   "metadata": {},
   "outputs": [
    {
     "name": "stdout",
     "output_type": "stream",
     "text": [
      "{'item1': 1150, 'item2': 300}\n"
     ]
    }
   ],
   "source": [
    "lista = [{'item': 'item1', 'amount': 400}, {'item': 'item2', 'amount': 300}, {'item': 'item1', 'amount': 750}]\n",
    "dicionario = {}\n",
    "for i in range(len(lista)):\n",
    "    titulo = list(lista[i].values())[1]\n",
    "    valor = list(lista[i].values())[0]\n",
    "    # primeira execução do loop insere o primeiro item no dicionario\n",
    "    if i == 0 :\n",
    "        dicionario[titulo] = valor\n",
    "    # execuções seguintes verifica se a chave já está contida no dicionario e soma o valor.    \n",
    "    elif titulo in dicionario.keys():\n",
    "        valor_ant = dicionario[titulo]\n",
    "        valor_atu = valor + valor_ant\n",
    "        dicionario[titulo] = valor_atu\n",
    "    else:\n",
    "        dicionario[titulo] = valor\n",
    "\n",
    "print(dicionario)\n"
   ]
  },
  {
   "cell_type": "raw",
   "metadata": {},
   "source": [
    "14. Escreva um programa para criar um dicionário onde as chaves são os caracteres de uma string e os valores são a quantidade de vezes que cada caracter aparece.\n",
    "String Exemplo : 'progresso'\n",
    "Resultado Esperado: {'p': 1, 'r': 2, 'o': 2, 'g': 1, 'e': 1, 's': 2}"
   ]
  },
  {
   "cell_type": "code",
   "execution_count": 195,
   "metadata": {},
   "outputs": [
    {
     "name": "stdout",
     "output_type": "stream",
     "text": [
      "{'a': 3, 'n': 2, 'b': 1}\n"
     ]
    }
   ],
   "source": [
    "palavra = 'banana'\n",
    "dicionario = {}\n",
    "\n",
    "for i in range(len(palavra)):\n",
    "    letra = palavra[i]\n",
    "    if i == 0:\n",
    "        dicionario[letra] = 1\n",
    "    elif letra in dicionario.keys():\n",
    "        qtd_ant = dicionario[letra]\n",
    "        dicionario[letra] = dicionario[letra]+1\n",
    "    else: \n",
    "        dicionario[letra] = 1\n",
    "\n",
    "print(dicionario)"
   ]
  },
  {
   "cell_type": "raw",
   "metadata": {},
   "source": [
    "15. Escreva um programa para pegar uma chave, valor e um item no dicionário."
   ]
  },
  {
   "cell_type": "code",
   "execution_count": 217,
   "metadata": {},
   "outputs": [
    {
     "name": "stdout",
     "output_type": "stream",
     "text": [
      "{1: 10, 2: 20, 3: 30, 4: 40, 5: 50, 6: 60}\n",
      "Opcao Inválida\n"
     ]
    }
   ],
   "source": [
    "dicionario = {1: 10, 2: 20, 3: 30, 4: 40, 5: 50, 6: 60}\n",
    "\n",
    "def busca_chave(parametro):\n",
    "    if dicionario.get(parametro) is None: \n",
    "        return('Não encontrado')\n",
    "    else :\n",
    "        return(dicionario[parametro])\n",
    "\n",
    "def busca_valor(parametro):\n",
    "    if dicionario.get(parametro) is None: \n",
    "        return('Não encontrado')\n",
    "    else :\n",
    "        return(dicionario[parametro])\n",
    "\n",
    "def busca_item(parametro):\n",
    "    if dicionario.get(parametro) is None: \n",
    "        return('Não encontrado')\n",
    "    else :\n",
    "        return(dicionario[parametro])\n",
    "print(dicionario)\n",
    "opcao = int(input('\\n MENU \\n Informe o que desejas resgatar: \\n 1 - Chave \\n 2 - Valor \\n 3 - Item \\n '))\n",
    "\n",
    "if opcao == 1 :\n",
    "    busca_chave(int(input(' Informe a chave : ')))\n",
    "elif opcao == 2 : \n",
    "    busca_valor(input(' Informe o valor : '))\n",
    "elif opcao == 3 :\n",
    "    busca_item(input(' informe o item : '))\n",
    "else:\n",
    "    print('Opcao Inválida')\n",
    "\n"
   ]
  },
  {
   "cell_type": "raw",
   "metadata": {},
   "source": [
    "16. Escreva um programa que mostra cada item linha por linha. "
   ]
  },
  {
   "cell_type": "raw",
   "metadata": {},
   "source": [
    "17. Escreva um programa para contar o número de itens em um dicionário que é uma lista."
   ]
  },
  {
   "cell_type": "raw",
   "metadata": {},
   "source": [
    "18. Escreva um programa que retorna se dois dicionários possuem o mesmo item.\n",
    "Exemplo: {'key1': 1, 'key2': 3, 'key3': 2}, {'key1': 1, 'key2': 2}\n",
    "Resultado: key1: 1 está presente em x e y"
   ]
  }
 ],
 "metadata": {
  "kernelspec": {
   "display_name": "Python 3",
   "language": "python",
   "name": "python3"
  },
  "language_info": {
   "codemirror_mode": {
    "name": "ipython",
    "version": 3
   },
   "file_extension": ".py",
   "mimetype": "text/x-python",
   "name": "python",
   "nbconvert_exporter": "python",
   "pygments_lexer": "ipython3",
   "version": "3.5.2"
  },
  "varInspector": {
   "cols": {
    "lenName": 16,
    "lenType": 16,
    "lenVar": 40
   },
   "kernels_config": {
    "python": {
     "delete_cmd_postfix": "",
     "delete_cmd_prefix": "del ",
     "library": "var_list.py",
     "varRefreshCmd": "print(var_dic_list())"
    },
    "r": {
     "delete_cmd_postfix": ") ",
     "delete_cmd_prefix": "rm(",
     "library": "var_list.r",
     "varRefreshCmd": "cat(var_dic_list()) "
    }
   },
   "types_to_exclude": [
    "module",
    "function",
    "builtin_function_or_method",
    "instance",
    "_Feature"
   ],
   "window_display": false
  }
 },
 "nbformat": 4,
 "nbformat_minor": 2
}
