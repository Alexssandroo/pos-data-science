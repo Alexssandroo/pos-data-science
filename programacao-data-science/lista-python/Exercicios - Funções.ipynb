{
 "cells": [
  {
   "cell_type": "markdown",
   "metadata": {},
   "source": [
    "Em todos os exercícios iremos utilizar o conceito de variáveis para armazenar os valores que iremos operar.\n",
    "Você poderá fazer isso de duas maneiras:\n",
    "1. Declarando diretamente a variável.\n",
    "```python\n",
    "x = 1\n",
    "```\n",
    "2. Utilizando o comando input para salvar o valor na hora da execução.\n",
    "```python\n",
    "x = input('Entre com um valor:')\n",
    "# O comando input salva uma string, para operar com números deve-se converter para o tipo desejado.\n",
    "x = int(input('Entre com um valor:'))\n",
    "x = float(input('Entre com um valor:'))\n",
    "```\n",
    "Leia bem o enunciado e utilize a maneira que você achar mais apropriada a ser utilizada no problema proposto.\n",
    "\n",
    "Se for necessário criar uma função (estrutura que repete um conjunto de operações), utilize a estrutura básica a seguir como exemplo.\n",
    "```python\n",
    "def funcao_qualquer(x,y):\n",
    "    z = x + y\n",
    "    return z\n",
    "```"
   ]
  },
  {
   "cell_type": "raw",
   "metadata": {},
   "source": [
    "1. Escreva uma função em Python para achar o máximo entre 3 números."
   ]
  },
  {
   "cell_type": "code",
   "execution_count": 3,
   "metadata": {},
   "outputs": [
    {
     "name": "stdout",
     "output_type": "stream",
     "text": [
      "9\n"
     ]
    }
   ],
   "source": [
    "def maior_valor(a,b,c):\n",
    "    lista = [a, b, c]\n",
    "    return print(max(lista))\n",
    "\n",
    "lista2 = maior_valor(9,2,3)"
   ]
  },
  {
   "cell_type": "raw",
   "metadata": {},
   "source": [
    "2. Escreva uma função em python para achar a soma de todos os números em uma lista.\n",
    "Exemplo Entrada : (8, 2, 3, 0, 7)\n",
    "Exemplo Saída : 20 "
   ]
  },
  {
   "cell_type": "code",
   "execution_count": 14,
   "metadata": {},
   "outputs": [
    {
     "name": "stdout",
     "output_type": "stream",
     "text": [
      "20\n"
     ]
    }
   ],
   "source": [
    "def soma_lista(lista):\n",
    "    return sum(lista)\n",
    "\n",
    "print(soma_lista((8, 2, 3, 0, 7)))"
   ]
  },
  {
   "cell_type": "raw",
   "metadata": {},
   "source": [
    "3. Escreva uma função em Python que retorna o produto de uma lista de números.\n",
    "Exemplo Entrada : (8, 2, 3, -1, 7)\n",
    "Exemplo Saída : -336 "
   ]
  },
  {
   "cell_type": "code",
   "execution_count": 45,
   "metadata": {},
   "outputs": [
    {
     "name": "stdout",
     "output_type": "stream",
     "text": [
      "-336\n"
     ]
    }
   ],
   "source": [
    "import operator\n",
    "\n",
    "def prod(argumento):\n",
    "    return reduce(operator.mul, argumento, 1)\n",
    "\n",
    "print(prod((8, 2, 3, -1, 7)))\n"
   ]
  },
  {
   "cell_type": "raw",
   "metadata": {},
   "source": [
    "4. Escreva uma função em Python que retorna uma string reversa.\n",
    "Exemplo Entrada : \"1234abcd\"\n",
    "Exemplo Saída : \"dcba4321\""
   ]
  },
  {
   "cell_type": "code",
   "execution_count": 44,
   "metadata": {},
   "outputs": [
    {
     "name": "stdout",
     "output_type": "stream",
     "text": [
      "['d', 'c', 'b', 'a', '4', '3', '2', '1']\n"
     ]
    }
   ],
   "source": [
    "def printa_reverso(argumento):\n",
    "    lista = list(argumento)\n",
    "    lista.reverse()\n",
    "    return lista\n",
    "print(printa_reverso('1234abcd'))"
   ]
  },
  {
   "cell_type": "raw",
   "metadata": {},
   "source": [
    "5. Escreva uma função em Python que calcula o fatorial de um número (deve ser um inteiro não negativo). A função recebe um número como argumento."
   ]
  },
  {
   "cell_type": "code",
   "execution_count": 50,
   "metadata": {},
   "outputs": [],
   "source": [
    "def fatorial(n):\n",
    "    if n == 0:\n",
    "        return 0\n",
    "    if n == 1:\n",
    "        return 1\n",
    "    if n > 1:\n",
    "        return fatorial(n - 1) * n"
   ]
  },
  {
   "cell_type": "raw",
   "metadata": {},
   "source": [
    "6. Escreva uma função em Python que verifica se um número está dentro de um determinado alcance."
   ]
  },
  {
   "cell_type": "raw",
   "metadata": {},
   "source": [
    "7. Escreva uma função em Python que recebe uma string e calcula o número de letras maiúsculas e minúsculas na mesma.\n",
    "String Exemplo: 'Ordem e Progresso'\n",
    "Resultado Esperado : \n",
    "No. de letras maiúsculas : 2\n",
    "No. de letras minúsculas : 13"
   ]
  },
  {
   "cell_type": "code",
   "execution_count": 61,
   "metadata": {},
   "outputs": [
    {
     "data": {
      "text/plain": [
       "'No. de letras maiúsculas : 3 \\n No. de letras minúsculas : 9'"
      ]
     },
     "execution_count": 61,
     "metadata": {},
     "output_type": "execute_result"
    }
   ],
   "source": [
    "def conta_lower_upper(frase):\n",
    "    qtd_upper = 0\n",
    "    qtd_lower = 0\n",
    "    for i in frase:\n",
    "        if i.islower():\n",
    "            qtd_lower += 1 \n",
    "        elif i.isupper():\n",
    "            qtd_upper += 1\n",
    "    retorno = 'No. de letras maiúsculas : {qtd_upper} \\n No. de letras minúsculas : {qtd_lower}'.format(qtd_upper=qtd_upper, qtd_lower=qtd_lower)\n",
    "    return retorno"
   ]
  },
  {
   "cell_type": "raw",
   "metadata": {},
   "source": [
    "8. Escreva uma função em Python que recebe uma lista e retorna uma nova lista com os elementos únicos da lista inicial.\n",
    "Lista Exemplo : [1,2,3,3,3,3,4,5]\n",
    "Saída : [1, 2, 3, 4, 5]"
   ]
  },
  {
   "cell_type": "code",
   "execution_count": 64,
   "metadata": {},
   "outputs": [
    {
     "name": "stdout",
     "output_type": "stream",
     "text": [
      "[1, 2, 3, 4, 5]\n"
     ]
    }
   ],
   "source": [
    "def retorna_lista_unica(lista):\n",
    "    return(list(set(lista)))"
   ]
  },
  {
   "cell_type": "raw",
   "metadata": {},
   "source": [
    "9. Escreva uma função em Python que recebe um número inteiro como parâmetro e verifica se aquele número é ou não primo.\n",
    "Dica: Um número primo é um número natural maior que um que não tem nenhum divisor positivo além de 1 e ele mesmo."
   ]
  },
  {
   "cell_type": "raw",
   "metadata": {},
   "source": [
    "10. Escreva uma função em Python que retorna os números pares em uma determinada lista.\n",
    "Exemplo Entrada : [1, 2, 3, 4, 5, 6, 7, 8, 9] \n",
    "Saída : [2, 4, 6, 8]"
   ]
  },
  {
   "cell_type": "raw",
   "metadata": {},
   "source": [
    "11. Escreva uma função que leia um número e diga se ele é perfeito. Um número perfeito é aquele que é igual à soma dos seus divisores excluindo ele mesmo. Por exemplo, 28 = 14 + 7 + 4 + 2 + 1.\n",
    "* Divisor : Número que divide outro número sem deixar resto."
   ]
  },
  {
   "cell_type": "raw",
   "metadata": {},
   "source": [
    "12. Escreva uma função em Python que verifica se uma string é um palíndromo ou não.\n",
    "Dica:  Um palíndromo é uma palavra, frase ou sequência que é lida da mesma maneira da esquerda para direita ou ao contrário.\n",
    "Ex: arara , oco , reler"
   ]
  },
  {
   "cell_type": "markdown",
   "metadata": {},
   "source": [
    "13. Escreva uma função em Python que imprime as primeiras n linhas dl Triângulo de Pascal.\n",
    "\n",
    "<img src =\"triangulo-pascal.png\">\n",
    "\n",
    "Cada número na linha é a soma dos dois números acima."
   ]
  },
  {
   "cell_type": "raw",
   "metadata": {},
   "source": [
    "14. Escreva uma função em Python para verificar se uma string é um pantograma ou não.\n",
    "Dica : Pantogramas são palavras ou sentenças contendo todas as letras do alfabeto pelo menos 1 vez.\n",
    "Exemplo : \"Jane quer LP, fax, CD, giz, TV e bom whisky.\" "
   ]
  },
  {
   "cell_type": "raw",
   "metadata": {},
   "source": [
    "15. Escreva um programa que recebe uma sequencia separada por hífens e retorna uma sequência também separada por hífens, porém, ordenada alfabéticamente.\n",
    "Exemplo : verde-vermelho-amarelo-preto-branco\n",
    "Resultado Esperado : amarelo-branco-preto-verde-vermelho"
   ]
  },
  {
   "cell_type": "raw",
   "metadata": {},
   "source": [
    "16. Escreva um programa em Python que acessa uma função dentro de outra função."
   ]
  }
 ],
 "metadata": {
  "kernelspec": {
   "display_name": "Python 3",
   "language": "python",
   "name": "python3"
  },
  "language_info": {
   "codemirror_mode": {
    "name": "ipython",
    "version": 3
   },
   "file_extension": ".py",
   "mimetype": "text/x-python",
   "name": "python",
   "nbconvert_exporter": "python",
   "pygments_lexer": "ipython3",
   "version": "3.5.2"
  },
  "varInspector": {
   "cols": {
    "lenName": 16,
    "lenType": 16,
    "lenVar": 40
   },
   "kernels_config": {
    "python": {
     "delete_cmd_postfix": "",
     "delete_cmd_prefix": "del ",
     "library": "var_list.py",
     "varRefreshCmd": "print(var_dic_list())"
    },
    "r": {
     "delete_cmd_postfix": ") ",
     "delete_cmd_prefix": "rm(",
     "library": "var_list.r",
     "varRefreshCmd": "cat(var_dic_list()) "
    }
   },
   "types_to_exclude": [
    "module",
    "function",
    "builtin_function_or_method",
    "instance",
    "_Feature"
   ],
   "window_display": false
  }
 },
 "nbformat": 4,
 "nbformat_minor": 2
}
