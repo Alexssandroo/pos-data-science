{
 "cells": [
  {
   "cell_type": "code",
   "execution_count": 8,
   "metadata": {},
   "outputs": [
    {
     "name": "stdout",
     "output_type": "stream",
     "text": [
      "  [1]   1   2   3   4   5   6   7   8   9  10  11  12  13  14  15  16  17  18\n",
      " [19]  19  20  21  22  23  24  25  26  27  28  29  30  31  32  33  34  35  36\n",
      " [37]  37  38  39  40  41  42  43  44  45  46  47  48  49  50  51  52  53  54\n",
      " [55]  55  56  57  58  59  60  61  62  63  64  65  66  67  68  69  70  71  72\n",
      " [73]  73  74  75  76  77  78  79  80  81  82  83  84  85  86  87  88  89  90\n",
      " [91]  91  92  93  94  95  96  97  98  99 100\n"
     ]
    }
   ],
   "source": [
    "cont<- c(seq(1:100))\n",
    "print(cont)"
   ]
  },
  {
   "cell_type": "code",
   "execution_count": 10,
   "metadata": {},
   "outputs": [],
   "source": [
    "df <- data.frame(A=4:1, B=c(2,NA,5,8))"
   ]
  },
  {
   "cell_type": "code",
   "execution_count": 18,
   "metadata": {},
   "outputs": [
    {
     "data": {
      "text/html": [
       "<table>\n",
       "<thead><tr><th></th><th scope=col>A</th><th scope=col>B</th></tr></thead>\n",
       "<tbody>\n",
       "\t<tr><th scope=row>2</th><td>3 </td><td>NA</td></tr>\n",
       "</tbody>\n",
       "</table>\n"
      ],
      "text/latex": [
       "\\begin{tabular}{r|ll}\n",
       "  & A & B\\\\\n",
       "\\hline\n",
       "\t2 & 3  & NA\\\\\n",
       "\\end{tabular}\n"
      ],
      "text/markdown": [
       "\n",
       "| <!--/--> | A | B | \n",
       "|---|\n",
       "| 2 | 3  | NA | \n",
       "\n",
       "\n"
      ],
      "text/plain": [
       "  A B \n",
       "2 3 NA"
      ]
     },
     "metadata": {},
     "output_type": "display_data"
    }
   ],
   "source": [
    "df[is.na(df$B),]"
   ]
  },
  {
   "cell_type": "code",
   "execution_count": 19,
   "metadata": {},
   "outputs": [
    {
     "data": {
      "text/html": [
       "<ol class=list-inline>\n",
       "\t<li>4</li>\n",
       "\t<li>3</li>\n",
       "\t<li>2</li>\n",
       "\t<li>1</li>\n",
       "</ol>\n"
      ],
      "text/latex": [
       "\\begin{enumerate*}\n",
       "\\item 4\n",
       "\\item 3\n",
       "\\item 2\n",
       "\\item 1\n",
       "\\end{enumerate*}\n"
      ],
      "text/markdown": [
       "1. 4\n",
       "2. 3\n",
       "3. 2\n",
       "4. 1\n",
       "\n",
       "\n"
      ],
      "text/plain": [
       "[1] 4 3 2 1"
      ]
     },
     "metadata": {},
     "output_type": "display_data"
    }
   ],
   "source": [
    "with(df,A)"
   ]
  },
  {
   "cell_type": "code",
   "execution_count": 36,
   "metadata": {},
   "outputs": [
    {
     "data": {
      "text/html": [
       "<table>\n",
       "<thead><tr><th scope=col>arvore</th><th scope=col>classe</th><th scope=col>talhao</th><th scope=col>dap</th><th scope=col>ht</th><th scope=col>tronco</th><th scope=col>sobra</th><th scope=col>folha</th><th scope=col>total</th></tr></thead>\n",
       "<tbody>\n",
       "\t<tr><td> 6    </td><td>c     </td><td>22    </td><td>19.90 </td><td>21.50 </td><td>183.64</td><td>20.42 </td><td> 8.57 </td><td>212.64</td></tr>\n",
       "\t<tr><td> 8    </td><td>b     </td><td>23    </td><td>12.40 </td><td>15.74 </td><td> 42.29</td><td> 6.58 </td><td> 2.52 </td><td> 51.40</td></tr>\n",
       "\t<tr><td> 7    </td><td>c     </td><td>32    </td><td>16.50 </td><td>11.74 </td><td> 60.61</td><td>11.35 </td><td>48.52 </td><td>120.49</td></tr>\n",
       "\t<tr><td> 8    </td><td>a     </td><td>32    </td><td> 9.00 </td><td> 7.72 </td><td> 12.28</td><td> 9.99 </td><td>27.67 </td><td> 49.95</td></tr>\n",
       "\t<tr><td> 9    </td><td>a     </td><td>32    </td><td> 7.00 </td><td> 6.55 </td><td> 11.86</td><td> 7.97 </td><td> 7.76 </td><td> 27.61</td></tr>\n",
       "\t<tr><td> 9    </td><td>b     </td><td>32    </td><td>10.50 </td><td> 8.79 </td><td> 26.10</td><td> 7.48 </td><td>23.36 </td><td> 56.95</td></tr>\n",
       "\t<tr><td> 1    </td><td>c     </td><td>22    </td><td>13.00 </td><td>12.86 </td><td> 47.84</td><td>12.14 </td><td> 2.33 </td><td> 62.32</td></tr>\n",
       "\t<tr><td> 2    </td><td>c     </td><td>22    </td><td>20.00 </td><td>20.05 </td><td>183.07</td><td>32.18 </td><td>14.56 </td><td>229.83</td></tr>\n",
       "\t<tr><td> 1    </td><td>a     </td><td>22    </td><td> 7.00 </td><td>11.60 </td><td> 16.19</td><td> 1.81 </td><td> 0.65 </td><td> 18.66</td></tr>\n",
       "\t<tr><td> 2    </td><td>a     </td><td>23    </td><td> 6.30 </td><td> 6.36 </td><td>  6.40</td><td> 5.92 </td><td> 0.93 </td><td> 13.27</td></tr>\n",
       "\t<tr><td> 1    </td><td>b     </td><td>23    </td><td>15.50 </td><td>18.20 </td><td>103.39</td><td>14.17 </td><td> 5.26 </td><td>122.83</td></tr>\n",
       "\t<tr><td> 2    </td><td>b     </td><td>23    </td><td> 8.50 </td><td>10.96 </td><td> 13.71</td><td> 3.28 </td><td> 0.90 </td><td> 17.91</td></tr>\n",
       "\t<tr><td> 3    </td><td>a     </td><td>18    </td><td> 7.00 </td><td>11.30 </td><td>  6.11</td><td> 8.23 </td><td> 1.12 </td><td> 15.47</td></tr>\n",
       "\t<tr><td> 3    </td><td>b     </td><td>18    </td><td>12.50 </td><td>15.70 </td><td> 68.72</td><td> 9.24 </td><td> 1.87 </td><td> 79.85</td></tr>\n",
       "\t<tr><td> 4    </td><td>b     </td><td>16    </td><td>10.40 </td><td>10.52 </td><td> 25.28</td><td> 6.91 </td><td> 2.57 </td><td> 34.76</td></tr>\n",
       "\t<tr><td> 4    </td><td>a     </td><td>16    </td><td> 6.00 </td><td> 7.53 </td><td>  8.51</td><td> 6.66 </td><td> 1.61 </td><td> 16.78</td></tr>\n",
       "\t<tr><td> 5    </td><td>b     </td><td>23    </td><td>12.30 </td><td>14.20 </td><td> 47.19</td><td> 5.94 </td><td> 3.94 </td><td> 57.08</td></tr>\n",
       "\t<tr><td> 6    </td><td>b     </td><td>17    </td><td>10.00 </td><td>11.36 </td><td> 26.43</td><td> 5.79 </td><td> 2.01 </td><td> 34.23</td></tr>\n",
       "\t<tr><td> 5    </td><td>a     </td><td>17    </td><td> 5.90 </td><td>11.26 </td><td>  3.83</td><td> 4.14 </td><td> 0.12 </td><td>  8.10</td></tr>\n",
       "\t<tr><td> 3    </td><td>c     </td><td>32    </td><td>20.05 </td><td>11.40 </td><td>158.66</td><td>42.28 </td><td> 6.69 </td><td>207.64</td></tr>\n",
       "\t<tr><td> 6    </td><td>a     </td><td>32    </td><td> 7.00 </td><td> 6.74 </td><td>  5.64</td><td> 5.38 </td><td> 0.72 </td><td> 11.74</td></tr>\n",
       "\t<tr><td> 4    </td><td>c     </td><td>16    </td><td>15.30 </td><td>14.90 </td><td> 90.81</td><td>18.46 </td><td> 8.28 </td><td>117.56</td></tr>\n",
       "\t<tr><td> 7    </td><td>a     </td><td>16    </td><td> 6.00 </td><td> 8.12 </td><td>  1.96</td><td> 4.86 </td><td> 0.84 </td><td>  7.67</td></tr>\n",
       "\t<tr><td> 7    </td><td>b     </td><td>17    </td><td> 8.60 </td><td>14.05 </td><td> 25.42</td><td> 4.50 </td><td> 1.47 </td><td> 31.41</td></tr>\n",
       "\t<tr><td> 5    </td><td>c     </td><td>16    </td><td>12.50 </td><td>11.05 </td><td> 39.51</td><td>14.37 </td><td> 3.73 </td><td> 57.62</td></tr>\n",
       "\t<tr><td> 8    </td><td>c     </td><td>17    </td><td>22.00 </td><td>25.52 </td><td>272.16</td><td>18.25 </td><td> 9.49 </td><td>299.91</td></tr>\n",
       "\t<tr><td>10    </td><td>a     </td><td>17    </td><td> 9.40 </td><td>12.64 </td><td> 31.78</td><td>36.72 </td><td>11.92 </td><td> 80.44</td></tr>\n",
       "\t<tr><td> 9    </td><td>c     </td><td>22    </td><td>17.00 </td><td>20.42 </td><td>118.70</td><td> 7.94 </td><td> 1.79 </td><td>128.44</td></tr>\n",
       "\t<tr><td>10    </td><td>c     </td><td>17    </td><td>16.00 </td><td>17.30 </td><td> 98.45</td><td>11.71 </td><td> 5.45 </td><td>115.63</td></tr>\n",
       "\t<tr><td>10    </td><td>b     </td><td>16    </td><td>12.00 </td><td>17.20 </td><td> 49.98</td><td> 5.29 </td><td> 1.10 </td><td> 56.39</td></tr>\n",
       "\t<tr><td> 1    </td><td>d     </td><td>23    </td><td>17.00 </td><td>16.20 </td><td>118.12</td><td>21.10 </td><td> 7.11 </td><td>146.33</td></tr>\n",
       "\t<tr><td> 2    </td><td>d     </td><td>23    </td><td>13.70 </td><td>11.80 </td><td> 50.17</td><td> 7.32 </td><td> 4.45 </td><td> 61.96</td></tr>\n",
       "\t<tr><td> 3    </td><td>d     </td><td>23    </td><td>23.00 </td><td>16.80 </td><td>217.04</td><td>55.18 </td><td>18.88 </td><td>291.10</td></tr>\n",
       "\t<tr><td> 4    </td><td>d     </td><td>32    </td><td>22.00 </td><td>15.65 </td><td>189.90</td><td>65.83 </td><td>10.87 </td><td>266.61</td></tr>\n",
       "\t<tr><td> 5    </td><td>d     </td><td>17    </td><td>19.00 </td><td>18.60 </td><td>119.26</td><td>15.88 </td><td> 7.65 </td><td>142.79</td></tr>\n",
       "\t<tr><td> 6    </td><td>d     </td><td>18    </td><td>15.40 </td><td>14.16 </td><td> 88.80</td><td> 9.40 </td><td> 3.64 </td><td>101.85</td></tr>\n",
       "</tbody>\n",
       "</table>\n"
      ],
      "text/latex": [
       "\\begin{tabular}{r|lllllllll}\n",
       " arvore & classe & talhao & dap & ht & tronco & sobra & folha & total\\\\\n",
       "\\hline\n",
       "\t  6     & c      & 22     & 19.90  & 21.50  & 183.64 & 20.42  &  8.57  & 212.64\\\\\n",
       "\t  8     & b      & 23     & 12.40  & 15.74  &  42.29 &  6.58  &  2.52  &  51.40\\\\\n",
       "\t  7     & c      & 32     & 16.50  & 11.74  &  60.61 & 11.35  & 48.52  & 120.49\\\\\n",
       "\t  8     & a      & 32     &  9.00  &  7.72  &  12.28 &  9.99  & 27.67  &  49.95\\\\\n",
       "\t  9     & a      & 32     &  7.00  &  6.55  &  11.86 &  7.97  &  7.76  &  27.61\\\\\n",
       "\t  9     & b      & 32     & 10.50  &  8.79  &  26.10 &  7.48  & 23.36  &  56.95\\\\\n",
       "\t  1     & c      & 22     & 13.00  & 12.86  &  47.84 & 12.14  &  2.33  &  62.32\\\\\n",
       "\t  2     & c      & 22     & 20.00  & 20.05  & 183.07 & 32.18  & 14.56  & 229.83\\\\\n",
       "\t  1     & a      & 22     &  7.00  & 11.60  &  16.19 &  1.81  &  0.65  &  18.66\\\\\n",
       "\t  2     & a      & 23     &  6.30  &  6.36  &   6.40 &  5.92  &  0.93  &  13.27\\\\\n",
       "\t  1     & b      & 23     & 15.50  & 18.20  & 103.39 & 14.17  &  5.26  & 122.83\\\\\n",
       "\t  2     & b      & 23     &  8.50  & 10.96  &  13.71 &  3.28  &  0.90  &  17.91\\\\\n",
       "\t  3     & a      & 18     &  7.00  & 11.30  &   6.11 &  8.23  &  1.12  &  15.47\\\\\n",
       "\t  3     & b      & 18     & 12.50  & 15.70  &  68.72 &  9.24  &  1.87  &  79.85\\\\\n",
       "\t  4     & b      & 16     & 10.40  & 10.52  &  25.28 &  6.91  &  2.57  &  34.76\\\\\n",
       "\t  4     & a      & 16     &  6.00  &  7.53  &   8.51 &  6.66  &  1.61  &  16.78\\\\\n",
       "\t  5     & b      & 23     & 12.30  & 14.20  &  47.19 &  5.94  &  3.94  &  57.08\\\\\n",
       "\t  6     & b      & 17     & 10.00  & 11.36  &  26.43 &  5.79  &  2.01  &  34.23\\\\\n",
       "\t  5     & a      & 17     &  5.90  & 11.26  &   3.83 &  4.14  &  0.12  &   8.10\\\\\n",
       "\t  3     & c      & 32     & 20.05  & 11.40  & 158.66 & 42.28  &  6.69  & 207.64\\\\\n",
       "\t  6     & a      & 32     &  7.00  &  6.74  &   5.64 &  5.38  &  0.72  &  11.74\\\\\n",
       "\t  4     & c      & 16     & 15.30  & 14.90  &  90.81 & 18.46  &  8.28  & 117.56\\\\\n",
       "\t  7     & a      & 16     &  6.00  &  8.12  &   1.96 &  4.86  &  0.84  &   7.67\\\\\n",
       "\t  7     & b      & 17     &  8.60  & 14.05  &  25.42 &  4.50  &  1.47  &  31.41\\\\\n",
       "\t  5     & c      & 16     & 12.50  & 11.05  &  39.51 & 14.37  &  3.73  &  57.62\\\\\n",
       "\t  8     & c      & 17     & 22.00  & 25.52  & 272.16 & 18.25  &  9.49  & 299.91\\\\\n",
       "\t 10     & a      & 17     &  9.40  & 12.64  &  31.78 & 36.72  & 11.92  &  80.44\\\\\n",
       "\t  9     & c      & 22     & 17.00  & 20.42  & 118.70 &  7.94  &  1.79  & 128.44\\\\\n",
       "\t 10     & c      & 17     & 16.00  & 17.30  &  98.45 & 11.71  &  5.45  & 115.63\\\\\n",
       "\t 10     & b      & 16     & 12.00  & 17.20  &  49.98 &  5.29  &  1.10  &  56.39\\\\\n",
       "\t  1     & d      & 23     & 17.00  & 16.20  & 118.12 & 21.10  &  7.11  & 146.33\\\\\n",
       "\t  2     & d      & 23     & 13.70  & 11.80  &  50.17 &  7.32  &  4.45  &  61.96\\\\\n",
       "\t  3     & d      & 23     & 23.00  & 16.80  & 217.04 & 55.18  & 18.88  & 291.10\\\\\n",
       "\t  4     & d      & 32     & 22.00  & 15.65  & 189.90 & 65.83  & 10.87  & 266.61\\\\\n",
       "\t  5     & d      & 17     & 19.00  & 18.60  & 119.26 & 15.88  &  7.65  & 142.79\\\\\n",
       "\t  6     & d      & 18     & 15.40  & 14.16  &  88.80 &  9.40  &  3.64  & 101.85\\\\\n",
       "\\end{tabular}\n"
      ],
      "text/markdown": [
       "\n",
       "arvore | classe | talhao | dap | ht | tronco | sobra | folha | total | \n",
       "|---|---|---|---|---|---|---|---|---|---|---|---|---|---|---|---|---|---|---|---|---|---|---|---|---|---|---|---|---|---|---|---|---|---|---|---|\n",
       "|  6     | c      | 22     | 19.90  | 21.50  | 183.64 | 20.42  |  8.57  | 212.64 | \n",
       "|  8     | b      | 23     | 12.40  | 15.74  |  42.29 |  6.58  |  2.52  |  51.40 | \n",
       "|  7     | c      | 32     | 16.50  | 11.74  |  60.61 | 11.35  | 48.52  | 120.49 | \n",
       "|  8     | a      | 32     |  9.00  |  7.72  |  12.28 |  9.99  | 27.67  |  49.95 | \n",
       "|  9     | a      | 32     |  7.00  |  6.55  |  11.86 |  7.97  |  7.76  |  27.61 | \n",
       "|  9     | b      | 32     | 10.50  |  8.79  |  26.10 |  7.48  | 23.36  |  56.95 | \n",
       "|  1     | c      | 22     | 13.00  | 12.86  |  47.84 | 12.14  |  2.33  |  62.32 | \n",
       "|  2     | c      | 22     | 20.00  | 20.05  | 183.07 | 32.18  | 14.56  | 229.83 | \n",
       "|  1     | a      | 22     |  7.00  | 11.60  |  16.19 |  1.81  |  0.65  |  18.66 | \n",
       "|  2     | a      | 23     |  6.30  |  6.36  |   6.40 |  5.92  |  0.93  |  13.27 | \n",
       "|  1     | b      | 23     | 15.50  | 18.20  | 103.39 | 14.17  |  5.26  | 122.83 | \n",
       "|  2     | b      | 23     |  8.50  | 10.96  |  13.71 |  3.28  |  0.90  |  17.91 | \n",
       "|  3     | a      | 18     |  7.00  | 11.30  |   6.11 |  8.23  |  1.12  |  15.47 | \n",
       "|  3     | b      | 18     | 12.50  | 15.70  |  68.72 |  9.24  |  1.87  |  79.85 | \n",
       "|  4     | b      | 16     | 10.40  | 10.52  |  25.28 |  6.91  |  2.57  |  34.76 | \n",
       "|  4     | a      | 16     |  6.00  |  7.53  |   8.51 |  6.66  |  1.61  |  16.78 | \n",
       "|  5     | b      | 23     | 12.30  | 14.20  |  47.19 |  5.94  |  3.94  |  57.08 | \n",
       "|  6     | b      | 17     | 10.00  | 11.36  |  26.43 |  5.79  |  2.01  |  34.23 | \n",
       "|  5     | a      | 17     |  5.90  | 11.26  |   3.83 |  4.14  |  0.12  |   8.10 | \n",
       "|  3     | c      | 32     | 20.05  | 11.40  | 158.66 | 42.28  |  6.69  | 207.64 | \n",
       "|  6     | a      | 32     |  7.00  |  6.74  |   5.64 |  5.38  |  0.72  |  11.74 | \n",
       "|  4     | c      | 16     | 15.30  | 14.90  |  90.81 | 18.46  |  8.28  | 117.56 | \n",
       "|  7     | a      | 16     |  6.00  |  8.12  |   1.96 |  4.86  |  0.84  |   7.67 | \n",
       "|  7     | b      | 17     |  8.60  | 14.05  |  25.42 |  4.50  |  1.47  |  31.41 | \n",
       "|  5     | c      | 16     | 12.50  | 11.05  |  39.51 | 14.37  |  3.73  |  57.62 | \n",
       "|  8     | c      | 17     | 22.00  | 25.52  | 272.16 | 18.25  |  9.49  | 299.91 | \n",
       "| 10     | a      | 17     |  9.40  | 12.64  |  31.78 | 36.72  | 11.92  |  80.44 | \n",
       "|  9     | c      | 22     | 17.00  | 20.42  | 118.70 |  7.94  |  1.79  | 128.44 | \n",
       "| 10     | c      | 17     | 16.00  | 17.30  |  98.45 | 11.71  |  5.45  | 115.63 | \n",
       "| 10     | b      | 16     | 12.00  | 17.20  |  49.98 |  5.29  |  1.10  |  56.39 | \n",
       "|  1     | d      | 23     | 17.00  | 16.20  | 118.12 | 21.10  |  7.11  | 146.33 | \n",
       "|  2     | d      | 23     | 13.70  | 11.80  |  50.17 |  7.32  |  4.45  |  61.96 | \n",
       "|  3     | d      | 23     | 23.00  | 16.80  | 217.04 | 55.18  | 18.88  | 291.10 | \n",
       "|  4     | d      | 32     | 22.00  | 15.65  | 189.90 | 65.83  | 10.87  | 266.61 | \n",
       "|  5     | d      | 17     | 19.00  | 18.60  | 119.26 | 15.88  |  7.65  | 142.79 | \n",
       "|  6     | d      | 18     | 15.40  | 14.16  |  88.80 |  9.40  |  3.64  | 101.85 | \n",
       "\n",
       "\n"
      ],
      "text/plain": [
       "   arvore classe talhao dap   ht    tronco sobra folha total \n",
       "1   6     c      22     19.90 21.50 183.64 20.42  8.57 212.64\n",
       "2   8     b      23     12.40 15.74  42.29  6.58  2.52  51.40\n",
       "3   7     c      32     16.50 11.74  60.61 11.35 48.52 120.49\n",
       "4   8     a      32      9.00  7.72  12.28  9.99 27.67  49.95\n",
       "5   9     a      32      7.00  6.55  11.86  7.97  7.76  27.61\n",
       "6   9     b      32     10.50  8.79  26.10  7.48 23.36  56.95\n",
       "7   1     c      22     13.00 12.86  47.84 12.14  2.33  62.32\n",
       "8   2     c      22     20.00 20.05 183.07 32.18 14.56 229.83\n",
       "9   1     a      22      7.00 11.60  16.19  1.81  0.65  18.66\n",
       "10  2     a      23      6.30  6.36   6.40  5.92  0.93  13.27\n",
       "11  1     b      23     15.50 18.20 103.39 14.17  5.26 122.83\n",
       "12  2     b      23      8.50 10.96  13.71  3.28  0.90  17.91\n",
       "13  3     a      18      7.00 11.30   6.11  8.23  1.12  15.47\n",
       "14  3     b      18     12.50 15.70  68.72  9.24  1.87  79.85\n",
       "15  4     b      16     10.40 10.52  25.28  6.91  2.57  34.76\n",
       "16  4     a      16      6.00  7.53   8.51  6.66  1.61  16.78\n",
       "17  5     b      23     12.30 14.20  47.19  5.94  3.94  57.08\n",
       "18  6     b      17     10.00 11.36  26.43  5.79  2.01  34.23\n",
       "19  5     a      17      5.90 11.26   3.83  4.14  0.12   8.10\n",
       "20  3     c      32     20.05 11.40 158.66 42.28  6.69 207.64\n",
       "21  6     a      32      7.00  6.74   5.64  5.38  0.72  11.74\n",
       "22  4     c      16     15.30 14.90  90.81 18.46  8.28 117.56\n",
       "23  7     a      16      6.00  8.12   1.96  4.86  0.84   7.67\n",
       "24  7     b      17      8.60 14.05  25.42  4.50  1.47  31.41\n",
       "25  5     c      16     12.50 11.05  39.51 14.37  3.73  57.62\n",
       "26  8     c      17     22.00 25.52 272.16 18.25  9.49 299.91\n",
       "27 10     a      17      9.40 12.64  31.78 36.72 11.92  80.44\n",
       "28  9     c      22     17.00 20.42 118.70  7.94  1.79 128.44\n",
       "29 10     c      17     16.00 17.30  98.45 11.71  5.45 115.63\n",
       "30 10     b      16     12.00 17.20  49.98  5.29  1.10  56.39\n",
       "31  1     d      23     17.00 16.20 118.12 21.10  7.11 146.33\n",
       "32  2     d      23     13.70 11.80  50.17  7.32  4.45  61.96\n",
       "33  3     d      23     23.00 16.80 217.04 55.18 18.88 291.10\n",
       "34  4     d      32     22.00 15.65 189.90 65.83 10.87 266.61\n",
       "35  5     d      17     19.00 18.60 119.26 15.88  7.65 142.79\n",
       "36  6     d      18     15.40 14.16  88.80  9.40  3.64 101.85"
      ]
     },
     "metadata": {},
     "output_type": "display_data"
    }
   ],
   "source": [
    "library(grid)\n",
    "library(ggplot2)\n",
    "\n",
    "dados <- read.csv(\"http://ecologia.ib.usp.br/bie5782/lib/exe/fetch.php?media=dados:esaligna.csv\")\n",
    "df <- data.frame(dados)\n",
    "dados"
   ]
  },
  {
   "cell_type": "code",
   "execution_count": 33,
   "metadata": {},
   "outputs": [
    {
     "data": {},
     "metadata": {},
     "output_type": "display_data"
    },
    {
     "data": {
      "image/png": "[encoded data removed]",
      "text/plain": [
       "plot without title"
      ]
     },
     "metadata": {},
     "output_type": "display_data"
    }
   ],
   "source": [
    "grafico <- ggplot(dados, aes(x= dap, y = ht))+ geom_point() + xlab(\"diametro\") + ylab(\"altura\") + labs(title=\"Relacao DAP x Altura\")\n",
    "grafico"
   ]
  },
  {
   "cell_type": "code",
   "execution_count": 37,
   "metadata": {},
   "outputs": [],
   "source": [
    "dados1 <- data.frame(talhao = sort(unique(dados$talhao)),\n",
    "                    media = with(dados, tapply(dap, talhao, mean)),\n",
    "                    sd = with(dados,tapply(dap, talhao, sd)))\n",
    "\n",
    "\n",
    "grafico2 <- ggplot(dados1, aes(factor(talhao), media)) + \n",
    "  geom_point(stat = \"identity\", size = 5) + \n",
    "  geom_errorbar(aes(ymin = media - sd, ymax =  media + sd), width = 0.5) +\n",
    "  xlab(\"talhao\")"
   ]
  },
  {
   "cell_type": "code",
   "execution_count": 38,
   "metadata": {},
   "outputs": [
    {
     "data": {
      "text/html": [
       "<table>\n",
       "<thead><tr><th></th><th scope=col>talhao</th><th scope=col>media</th><th scope=col>sd</th></tr></thead>\n",
       "<tbody>\n",
       "\t<tr><th scope=row>16</th><td>16      </td><td>10.36667</td><td>3.733452</td></tr>\n",
       "\t<tr><th scope=row>17</th><td>17      </td><td>12.98571</td><td>6.023960</td></tr>\n",
       "\t<tr><th scope=row>18</th><td>18      </td><td>11.63333</td><td>4.266536</td></tr>\n",
       "\t<tr><th scope=row>22</th><td>22      </td><td>15.38000</td><td>5.483794</td></tr>\n",
       "\t<tr><th scope=row>23</th><td>23      </td><td>13.58750</td><td>5.154315</td></tr>\n",
       "\t<tr><th scope=row>32</th><td>32      </td><td>13.15000</td><td>6.285499</td></tr>\n",
       "</tbody>\n",
       "</table>\n"
      ],
      "text/latex": [
       "\\begin{tabular}{r|lll}\n",
       "  & talhao & media & sd\\\\\n",
       "\\hline\n",
       "\t16 & 16       & 10.36667 & 3.733452\\\\\n",
       "\t17 & 17       & 12.98571 & 6.023960\\\\\n",
       "\t18 & 18       & 11.63333 & 4.266536\\\\\n",
       "\t22 & 22       & 15.38000 & 5.483794\\\\\n",
       "\t23 & 23       & 13.58750 & 5.154315\\\\\n",
       "\t32 & 32       & 13.15000 & 6.285499\\\\\n",
       "\\end{tabular}\n"
      ],
      "text/markdown": [
       "\n",
       "| <!--/--> | talhao | media | sd | \n",
       "|---|---|---|---|---|---|\n",
       "| 16 | 16       | 10.36667 | 3.733452 | \n",
       "| 17 | 17       | 12.98571 | 6.023960 | \n",
       "| 18 | 18       | 11.63333 | 4.266536 | \n",
       "| 22 | 22       | 15.38000 | 5.483794 | \n",
       "| 23 | 23       | 13.58750 | 5.154315 | \n",
       "| 32 | 32       | 13.15000 | 6.285499 | \n",
       "\n",
       "\n"
      ],
      "text/plain": [
       "   talhao media    sd      \n",
       "16 16     10.36667 3.733452\n",
       "17 17     12.98571 6.023960\n",
       "18 18     11.63333 4.266536\n",
       "22 22     15.38000 5.483794\n",
       "23 23     13.58750 5.154315\n",
       "32 32     13.15000 6.285499"
      ]
     },
     "metadata": {},
     "output_type": "display_data"
    },
    {
     "data": {},
     "metadata": {},
     "output_type": "display_data"
    },
    {
     "data": {
      "image/png": "[encoded data removed]",
      "text/plain": [
       "plot without title"
      ]
     },
     "metadata": {},
     "output_type": "display_data"
    }
   ],
   "source": [
    "dados1\n",
    "grafico2"
   ]
  }
 ],
 "metadata": {
  "kernelspec": {
   "display_name": "R",
   "language": "R",
   "name": "ir"
  },
  "language_info": {
   "codemirror_mode": "r",
   "file_extension": ".r",
   "mimetype": "text/x-r-source",
   "name": "R",
   "pygments_lexer": "r",
   "version": "3.4.4"
  }
 },
 "nbformat": 4,
 "nbformat_minor": 2
}
