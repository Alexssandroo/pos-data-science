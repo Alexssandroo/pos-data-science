{
 "cells": [
  {
   "cell_type": "markdown",
   "metadata": {
    "_cell_guid": "1cc307c0-3b21-4a77-9e11-2f70b74f4e39",
    "_uuid": "63e56611d248f72eb4c928ef1faea2eeab7f46b1",
    "colab_type": "text",
    "id": "HDm4_x_SS7vM"
   },
   "source": [
    "# Exercícios Programação Data Science - Utilizando Pandas\n",
    "---\n"
   ]
  },
  {
   "cell_type": "code",
   "execution_count": 2,
   "metadata": {
    "_cell_guid": "f7c99334-f7cd-44b3-b67e-32eee2614ac0",
    "_uuid": "38231546d84e8b22dfc2f50d2aa0518632f3ccc1"
   },
   "outputs": [],
   "source": [
    "import os\n",
    "import numpy as np\n",
    "import pandas as pd\n",
    "import re\n",
    "import matplotlib.pyplot as plt\n",
    "import seaborn as sns\n",
    "sns.set()"
   ]
  },
  {
   "cell_type": "markdown",
   "metadata": {
    "_cell_guid": "2d51ff53-5878-4219-95f8-3ad6dfb3204c",
    "_uuid": "89645b028f8f9dce3da4cf762a6aca1fc76a9d11",
    "colab_type": "text",
    "id": "1aDBgkUvgeTL"
   },
   "source": [
    "## EX01\n",
    "\n",
    "* Carregue para um DataFrame a lista de municípios de fronteira do Brasil utilizando o arquivo \"arquivos/arq_municipios_fronteiricos.csv\"."
   ]
  },
  {
   "cell_type": "code",
   "execution_count": 6,
   "metadata": {
    "_cell_guid": "799da926-ebee-4380-97ac-b2adf0174bf4",
    "_uuid": "85541dbdb4a55fced05df65129b8c11c842d9732",
    "collapsed": true
   },
   "outputs": [
    {
     "data": {
      "text/html": [
       "<div>\n",
       "<style scoped>\n",
       "    .dataframe tbody tr th:only-of-type {\n",
       "        vertical-align: middle;\n",
       "    }\n",
       "\n",
       "    .dataframe tbody tr th {\n",
       "        vertical-align: top;\n",
       "    }\n",
       "\n",
       "    .dataframe thead th {\n",
       "        text-align: right;\n",
       "    }\n",
       "</style>\n",
       "<table border=\"1\" class=\"dataframe\">\n",
       "  <thead>\n",
       "    <tr style=\"text-align: right;\">\n",
       "      <th></th>\n",
       "      <th>Município</th>\n",
       "      <th>Estado</th>\n",
       "      <th>Área territorial</th>\n",
       "      <th>População (IBGE/2007)</th>\n",
       "      <th>Densidade demográfica (hab/km2)</th>\n",
       "      <th>PIB (IBGE/2005</th>\n",
       "      <th>PIB per capita (R$)</th>\n",
       "      <th>IDH/2000</th>\n",
       "    </tr>\n",
       "  </thead>\n",
       "  <tbody>\n",
       "    <tr>\n",
       "      <th>0</th>\n",
       "      <td>1 – Aceguá</td>\n",
       "      <td>Rio Grande do Sul</td>\n",
       "      <td>1.550</td>\n",
       "      <td>4.138</td>\n",
       "      <td>2,66</td>\n",
       "      <td>71.638.000</td>\n",
       "      <td>17.266</td>\n",
       "      <td>ni</td>\n",
       "    </tr>\n",
       "    <tr>\n",
       "      <th>1</th>\n",
       "      <td>2 – Acrelândia</td>\n",
       "      <td>Acre</td>\n",
       "      <td>1.575</td>\n",
       "      <td>11.520</td>\n",
       "      <td>7,31</td>\n",
       "      <td>114.350.000</td>\n",
       "      <td>9.986</td>\n",
       "      <td>0,680</td>\n",
       "    </tr>\n",
       "    <tr>\n",
       "      <th>2</th>\n",
       "      <td>3 – Alecrim</td>\n",
       "      <td>Rio Grande do Sul</td>\n",
       "      <td>315.000</td>\n",
       "      <td>7.357</td>\n",
       "      <td>23,35</td>\n",
       "      <td>44.373.000</td>\n",
       "      <td>5.944</td>\n",
       "      <td>0,743</td>\n",
       "    </tr>\n",
       "    <tr>\n",
       "      <th>3</th>\n",
       "      <td>4 – Almeirim</td>\n",
       "      <td>Pará</td>\n",
       "      <td>72.960</td>\n",
       "      <td>30.903</td>\n",
       "      <td>0,42</td>\n",
       "      <td>462.258.000</td>\n",
       "      <td>13.485</td>\n",
       "      <td>0,745</td>\n",
       "    </tr>\n",
       "    <tr>\n",
       "      <th>4</th>\n",
       "      <td>5 – Alta Floresta d'Oeste</td>\n",
       "      <td>Rondônia</td>\n",
       "      <td>7.067</td>\n",
       "      <td>23.857</td>\n",
       "      <td>3,37</td>\n",
       "      <td>186.812.000</td>\n",
       "      <td>6.525</td>\n",
       "      <td>0,715</td>\n",
       "    </tr>\n",
       "  </tbody>\n",
       "</table>\n",
       "</div>"
      ],
      "text/plain": [
       "                   Município             Estado  Área territorial  \\\n",
       "0                 1 – Aceguá  Rio Grande do Sul             1.550   \n",
       "1             2 – Acrelândia               Acre             1.575   \n",
       "2                3 – Alecrim  Rio Grande do Sul           315.000   \n",
       "3               4 – Almeirim               Pará            72.960   \n",
       "4  5 – Alta Floresta d'Oeste           Rondônia             7.067   \n",
       "\n",
       "   População (IBGE/2007) Densidade demográfica (hab/km2) PIB (IBGE/2005  \\\n",
       "0                  4.138                            2,66     71.638.000   \n",
       "1                 11.520                            7,31    114.350.000   \n",
       "2                  7.357                           23,35     44.373.000   \n",
       "3                 30.903                            0,42    462.258.000   \n",
       "4                 23.857                            3,37    186.812.000   \n",
       "\n",
       "  PIB per capita (R$) IDH/2000  \n",
       "0              17.266       ni  \n",
       "1               9.986    0,680  \n",
       "2               5.944    0,743  \n",
       "3              13.485    0,745  \n",
       "4               6.525    0,715  "
      ]
     },
     "execution_count": 6,
     "metadata": {},
     "output_type": "execute_result"
    }
   ],
   "source": [
    "# Variavel contendo o nome do arquivo\n",
    "arquivo = \"arq_municipios_fronteiricos.csv\"\n",
    "\n",
    "# Complete o código abaixo para realizar a leitura do arquivo\n",
    "# o arquivo utiliza tabulação como separador\n",
    "# dentro de strings a tabulação é representada como \\t\n",
    "\n",
    "df = pd.read_csv(arquivo)\n",
    "\n",
    "df.head()\n",
    "# Visualize as 5 primeiras linhas do DataFrame\n",
    "\n"
   ]
  },
  {
   "cell_type": "markdown",
   "metadata": {
    "_cell_guid": "1e543d62-44ef-4892-bd70-483a0410ef0a",
    "_uuid": "744de4cebf9449bf883b23b266f3622f322563f0"
   },
   "source": [
    "* Realize um tratamento na coluna Município para remover os números e hífens.\n",
    "    * primeiro crie uma função recebe uma string com o nome do município, realiza a remoção dos números e hifens e retorna a nova string tratada\n",
    "    * faça os testes com a sua função até que o resultado esteja satisfatório\n",
    "    * passe a sua função como parâmetro para o método apply do DataFrame"
   ]
  },
  {
   "cell_type": "code",
   "execution_count": 4,
   "metadata": {},
   "outputs": [
    {
     "name": "stdout",
     "output_type": "stream",
     "text": [
      "Município,Estado,Área territorial,População (IBGE/2007),Densidade demográfica (hab/km2),PIB (IBGE/2005,PIB per capita (R$),IDH/2000\n",
      "1 – Aceguá,Rio Grande do Sul,1.550,4.138,\"2,66\",71.638.000,17.266,ni\n",
      "2 – Acrelândia,Acre,1.575,11.520,\"7,31\",114.350.000,9.986,\"0,680\"\n",
      "3 – Alecrim,Rio Grande do Sul,315,7.357,\"23,35\",44.373.000,5.944,\"0,743\"\n",
      "4 – Almeirim,Pará,72.960,30.903,\"0,42\",462.258.000,13.485,\"0,745\"\n",
      "5 – Alta Floresta d'Oeste,Rondônia,7.067,23.857,\"3,37\",186.812.000,6.525,\"0,715\"\n",
      "6 - Alto Alegre,Roraima,25.567,14.386,\"0,56\",115.786.000,5.239,\"0,662\"\n",
      "7 - Alto Alegre dos Parecis,Rondônia,3.959,11.615,\"2,93\",90.226.000,6.001,ni\n",
      "8 - Amajari,Roraima,28.472,7.586,\"0,26\",31.897,5.240.000,\"0,654\"\n",
      "9 - Antônio João,Mato Grosso do Sul,1.144,8.350,\"7,29\",39.989.000,5.067,\"0,702\"\n"
     ]
    }
   ],
   "source": [
    "!head arq_municipios_fronteiricos.csv"
   ]
  },
  {
   "cell_type": "code",
   "execution_count": 12,
   "metadata": {
    "_cell_guid": "4a02f93c-b631-4bb7-a09e-77097d0446e0",
    "_uuid": "3e41cad4af777ad8f1f780a71b7cc11659f0517d",
    "collapsed": true
   },
   "outputs": [
    {
     "name": "stdout",
     "output_type": "stream",
     "text": [
      "Aceguá\n",
      "Acrelândia\n",
      "Alecrim\n",
      "Almeirim\n",
      "Alta Floresta d'Oeste\n",
      "Alto Alegre\n",
      "Alto Alegre dos Parecis\n",
      "Amajari\n",
      "Antônio João\n",
      "Aral Moreira\n",
      "Assis Brasil\n",
      "Atalaia do Norte\n",
      "Bagé\n",
      "Bandeirante\n",
      "Barcelos\n",
      "Barra do Quaraí\n",
      "Barracão\n",
      "Bela Vista\n",
      "Belmonte\n",
      "Benjamin Constant\n",
      "Bom Jesus do Sul\n",
      "Bonfim\n",
      "Brasiléia\n",
      "Cabixi\n",
      "Cáceres\n",
      "Capanema\n",
      "Capixaba\n",
      "Caracaraí\n",
      "Caracol\n",
      "Caroebe\n",
      "Chuí\n",
      "Comodoro\n",
      "Coronel Sapucaia\n",
      "Corumbá\n",
      "Costa Marques\n",
      "Crissiumal\n",
      "Cruzeiro do Sul\n",
      "Derrubadas\n",
      "Dionísio Cerqueira\n",
      "Dom Pedrito\n",
      "Doutor Maurício Cardoso\n",
      "Entre Rios do Oeste\n",
      "Epitaciolândia\n",
      "Esperança do Sul\n",
      "Feijó\n",
      "Foz do Iguaçu\n",
      "Garruchos\n",
      "Guaíra\n",
      "Guajará\n",
      "Guajará Mirim\n",
      "Guaraciaba\n",
      "Herval\n",
      "Iracema\n",
      "Itaipulândia\n",
      "Itapiranga\n",
      "Itaqui\n",
      "Jaguarão\n",
      "Japorã\n",
      "Japurá\n",
      "Jordão\n",
      "Laranjal do Jari\n",
      "Mâncio Lima\n",
      "Manoel Urbano\n",
      "Marechal Rondon\n",
      "Marechal Thaumaturgo\n",
      "Mercedes\n",
      "Mundo Novo\n",
      "Normandia\n",
      "Novo Machado\n",
      "Nova Mamoré\n",
      "Óbidos\n",
      "Oiapoque\n",
      "Oriximiná\n",
      "Pacaraima\n",
      "Paraíso\n",
      "Paranhos\n",
      "Pato Bragado\n",
      "Pedras Altas\n",
      "Pérola d'Oeste\n",
      "Pimenteiras do Oeste\n",
      "Pirapó\n",
      "Plácido de Castro\n",
      "Planalto\n",
      "Poconé\n",
      "Ponta Porã\n",
      "Porto Esperidião\n",
      "Porto Lucena\n",
      "Porto Mauá\n",
      "Porto Murtinho\n",
      "Porto Velho\n",
      "Porto Vera Cruz\n",
      "Porto Walter\n",
      "Porto Xavier\n",
      "Pranchita\n",
      "Princesa\n",
      "Quaraí\n",
      "Rodrigues Alves\n",
      "Roque Gonzales\n",
      "Santa Helena\n",
      "Santa Helena\n",
      "Santa Isabel do Rio Negro\n",
      "Santa Rosa do Purus\n",
      "Santa Vitória do Palmar\n",
      "Santana do Livramento\n",
      "Santo Antônio do Içá\n",
      "Santo Antônio do Sudoeste\n",
      "São Borja\n",
      "São Francisco do Guaporé\n",
      "São Gabriel da Cachoeira\n",
      "São José do Cedro\n",
      "São Miguel do Iguaçu\n",
      "São Nicolau\n",
      "Sena Madureira\n",
      "Serranópolis do Iguaçu\n",
      "Sete Quedas\n",
      "Tabatinga\n",
      "Tiradentes do Sul\n",
      "Tunápolis\n",
      "Uiramutã\n",
      "Uruguaiana\n",
      "Vila Bela da Santíssima Trindade\n",
      "Xapuri\n"
     ]
    }
   ],
   "source": [
    "# função que irá realizar o tratamento para um município\n",
    "def tratar_nome_municipio(nome_municipio):\n",
    "    #realize a limpeza\n",
    "    nome_municipio_tratado = re.sub(r'([\\d]* [–-] )(.*)', r'\\2', nome_municipio)    \n",
    "    return nome_municipio_tratado\n",
    "\n",
    "# faça um teste de sua função para verificar se a transformação está correta\n",
    "\n",
    "for i in df['Município']:\n",
    "    try:\n",
    "        print(tratar_nome_municipio(i))\n",
    "    except:\n",
    "        pass"
   ]
  },
  {
   "cell_type": "code",
   "execution_count": 17,
   "metadata": {
    "_cell_guid": "0d781861-d7e8-4ccf-a451-e7e7bc6a204a",
    "_uuid": "47ff7af351c00c9ac7e6014c528eeb26e5637cec",
    "collapsed": true
   },
   "outputs": [],
   "source": [
    "# aplique a função utilizando o método apply\n",
    "\n",
    "#df['Município'].apply(lambda x: re.sub(r'([\\d]* [–-] )(.*)', r'\\2', x))\n",
    "\n",
    "df['Município'] = df['Município'].apply(tratar_nome_municipio)"
   ]
  },
  {
   "cell_type": "code",
   "execution_count": 18,
   "metadata": {
    "_cell_guid": "79dba42c-e744-45ba-9112-228aa25fff90",
    "_uuid": "78577d4f5103312b16569a6f800fc37a37f4d1d0",
    "collapsed": true
   },
   "outputs": [
    {
     "data": {
      "text/html": [
       "<div>\n",
       "<style scoped>\n",
       "    .dataframe tbody tr th:only-of-type {\n",
       "        vertical-align: middle;\n",
       "    }\n",
       "\n",
       "    .dataframe tbody tr th {\n",
       "        vertical-align: top;\n",
       "    }\n",
       "\n",
       "    .dataframe thead th {\n",
       "        text-align: right;\n",
       "    }\n",
       "</style>\n",
       "<table border=\"1\" class=\"dataframe\">\n",
       "  <thead>\n",
       "    <tr style=\"text-align: right;\">\n",
       "      <th></th>\n",
       "      <th>Município</th>\n",
       "      <th>Estado</th>\n",
       "      <th>Área territorial</th>\n",
       "      <th>População (IBGE/2007)</th>\n",
       "      <th>Densidade demográfica (hab/km2)</th>\n",
       "      <th>PIB (IBGE/2005</th>\n",
       "      <th>PIB per capita (R$)</th>\n",
       "      <th>IDH/2000</th>\n",
       "    </tr>\n",
       "  </thead>\n",
       "  <tbody>\n",
       "    <tr>\n",
       "      <th>0</th>\n",
       "      <td>Aceguá</td>\n",
       "      <td>Rio Grande do Sul</td>\n",
       "      <td>1.550</td>\n",
       "      <td>4.138</td>\n",
       "      <td>2,66</td>\n",
       "      <td>71.638.000</td>\n",
       "      <td>17.266</td>\n",
       "      <td>ni</td>\n",
       "    </tr>\n",
       "    <tr>\n",
       "      <th>1</th>\n",
       "      <td>Acrelândia</td>\n",
       "      <td>Acre</td>\n",
       "      <td>1.575</td>\n",
       "      <td>11.520</td>\n",
       "      <td>7,31</td>\n",
       "      <td>114.350.000</td>\n",
       "      <td>9.986</td>\n",
       "      <td>0,680</td>\n",
       "    </tr>\n",
       "    <tr>\n",
       "      <th>2</th>\n",
       "      <td>Alecrim</td>\n",
       "      <td>Rio Grande do Sul</td>\n",
       "      <td>315.000</td>\n",
       "      <td>7.357</td>\n",
       "      <td>23,35</td>\n",
       "      <td>44.373.000</td>\n",
       "      <td>5.944</td>\n",
       "      <td>0,743</td>\n",
       "    </tr>\n",
       "    <tr>\n",
       "      <th>3</th>\n",
       "      <td>Almeirim</td>\n",
       "      <td>Pará</td>\n",
       "      <td>72.960</td>\n",
       "      <td>30.903</td>\n",
       "      <td>0,42</td>\n",
       "      <td>462.258.000</td>\n",
       "      <td>13.485</td>\n",
       "      <td>0,745</td>\n",
       "    </tr>\n",
       "    <tr>\n",
       "      <th>4</th>\n",
       "      <td>Alta Floresta d'Oeste</td>\n",
       "      <td>Rondônia</td>\n",
       "      <td>7.067</td>\n",
       "      <td>23.857</td>\n",
       "      <td>3,37</td>\n",
       "      <td>186.812.000</td>\n",
       "      <td>6.525</td>\n",
       "      <td>0,715</td>\n",
       "    </tr>\n",
       "  </tbody>\n",
       "</table>\n",
       "</div>"
      ],
      "text/plain": [
       "               Município             Estado  Área territorial  \\\n",
       "0                 Aceguá  Rio Grande do Sul             1.550   \n",
       "1             Acrelândia               Acre             1.575   \n",
       "2                Alecrim  Rio Grande do Sul           315.000   \n",
       "3               Almeirim               Pará            72.960   \n",
       "4  Alta Floresta d'Oeste           Rondônia             7.067   \n",
       "\n",
       "   População (IBGE/2007) Densidade demográfica (hab/km2) PIB (IBGE/2005  \\\n",
       "0                  4.138                            2,66     71.638.000   \n",
       "1                 11.520                            7,31    114.350.000   \n",
       "2                  7.357                           23,35     44.373.000   \n",
       "3                 30.903                            0,42    462.258.000   \n",
       "4                 23.857                            3,37    186.812.000   \n",
       "\n",
       "  PIB per capita (R$) IDH/2000  \n",
       "0              17.266       ni  \n",
       "1               9.986    0,680  \n",
       "2               5.944    0,743  \n",
       "3              13.485    0,745  \n",
       "4               6.525    0,715  "
      ]
     },
     "execution_count": 18,
     "metadata": {},
     "output_type": "execute_result"
    }
   ],
   "source": [
    "# exiba todos os dados e verifique se o resultado está correto\n",
    "df.head()"
   ]
  },
  {
   "cell_type": "markdown",
   "metadata": {
    "_cell_guid": "bd5ea865-0511-43e5-bff2-581a99a4d316",
    "_uuid": "56a460c7c3c496c677ff505a576b465e2d20a65d"
   },
   "source": [
    "Algumas linhas ainda possuem hífen e números?"
   ]
  },
  {
   "cell_type": "code",
   "execution_count": 19,
   "metadata": {
    "_cell_guid": "58c54230-7bee-4dc6-931c-0e140b0f4a25",
    "_uuid": "198d9ade7917ed29fc2db6ac2cf2880cc07ca0ba",
    "collapsed": true
   },
   "outputs": [
    {
     "name": "stdout",
     "output_type": "stream",
     "text": [
      "0x2d\n",
      "0x2013\n"
     ]
    },
    {
     "data": {
      "text/plain": [
       "False"
      ]
     },
     "execution_count": 19,
     "metadata": {},
     "output_type": "execute_result"
    }
   ],
   "source": [
    "# problemas com caracteres são comuns\n",
    "print(hex(ord('-'))) # código UTF8 do caracter (hexadecimal)\n",
    "print(hex(ord('–'))) # código UTF8 do caracter (hexadecimal)\n",
    "'-' == '–'"
   ]
  },
  {
   "cell_type": "markdown",
   "metadata": {
    "_cell_guid": "fe3928d4-a8c8-41c9-be48-ea4042ee093d",
    "_uuid": "df20b4d97eb0f1c9507e40ae70712b7ed5d77b0f"
   },
   "source": [
    "* HYPHEN-MINUS: __&#x2D;__\n",
    "    * https://www.fileformat.info/info/unicode/char/2d/index.htm\n",
    "* EN DASH: __&#x2013;__\n",
    "    * https://www.fileformat.info/info/unicode/char/2013/index.htm"
   ]
  },
  {
   "cell_type": "code",
   "execution_count": null,
   "metadata": {
    "_cell_guid": "c76f3bfc-164d-4f73-b23a-9b5375b673ee",
    "_uuid": "5bec3c2d1b5e12dd082e4ab5b9ae42036181515a",
    "collapsed": true
   },
   "outputs": [],
   "source": [
    "# com todos os municípios devidamente tratados\n",
    "# sobrescreva a coluna Município com os novos valores\n",
    "\n",
    "# exiba as informações\n"
   ]
  },
  {
   "cell_type": "markdown",
   "metadata": {
    "_cell_guid": "d4771e57-0194-4d10-a9f3-45dae3713707",
    "_uuid": "9479278402daffba56507bf107311a09ac42a6e1"
   },
   "source": [
    "## EX02\n",
    "\n",
    "Ainda utilizando o DataFrame carregado no exercício anterior, verifique os tipos de dados das colunas do dataframe. Todos os dados numéricos deverão ser transformados para tipos numéricos.\n",
    "\n",
    "* utilize o método info() do DataFrame para saber detalhes dos tipos de dados das colunas\n",
    "* verifique se os números possuem os símbolos de decimal e separadores de milhar compatíveis com a linguagem. Se necessário, fazer as substituições pertinentes."
   ]
  },
  {
   "cell_type": "code",
   "execution_count": 26,
   "metadata": {
    "_cell_guid": "6c2403b5-6b38-48eb-a8d3-e127968db9fb",
    "_uuid": "729bdd9f49676ec2d24e228f75745ae0c5d98978",
    "collapsed": true
   },
   "outputs": [
    {
     "name": "stdout",
     "output_type": "stream",
     "text": [
      "<class 'pandas.core.frame.DataFrame'>\n",
      "RangeIndex: 122 entries, 0 to 121\n",
      "Data columns (total 8 columns):\n",
      "Município                          122 non-null object\n",
      "Estado                             122 non-null object\n",
      "Área territorial                   122 non-null float64\n",
      "População (IBGE/2007)              122 non-null float64\n",
      "Densidade demográfica (hab/km2)    122 non-null float64\n",
      "PIB (IBGE/2005                     122 non-null object\n",
      "PIB per capita (R$)                122 non-null object\n",
      "IDH/2000                           122 non-null object\n",
      "dtypes: float64(3), object(5)\n",
      "memory usage: 7.7+ KB\n"
     ]
    }
   ],
   "source": [
    "# verifique os tipos das colunas do DataFrame. Utilize o método info(): df_muni_front\n",
    "\n",
    "df.info()\n"
   ]
  },
  {
   "cell_type": "code",
   "execution_count": 27,
   "metadata": {},
   "outputs": [
    {
     "data": {
      "text/html": [
       "<div>\n",
       "<style scoped>\n",
       "    .dataframe tbody tr th:only-of-type {\n",
       "        vertical-align: middle;\n",
       "    }\n",
       "\n",
       "    .dataframe tbody tr th {\n",
       "        vertical-align: top;\n",
       "    }\n",
       "\n",
       "    .dataframe thead th {\n",
       "        text-align: right;\n",
       "    }\n",
       "</style>\n",
       "<table border=\"1\" class=\"dataframe\">\n",
       "  <thead>\n",
       "    <tr style=\"text-align: right;\">\n",
       "      <th></th>\n",
       "      <th>Área territorial</th>\n",
       "      <th>População (IBGE/2007)</th>\n",
       "      <th>Densidade demográfica (hab/km2)</th>\n",
       "    </tr>\n",
       "  </thead>\n",
       "  <tbody>\n",
       "    <tr>\n",
       "      <th>count</th>\n",
       "      <td>122.000000</td>\n",
       "      <td>122.000000</td>\n",
       "      <td>122.000000</td>\n",
       "    </tr>\n",
       "    <tr>\n",
       "      <th>mean</th>\n",
       "      <td>135.209361</td>\n",
       "      <td>24.529328</td>\n",
       "      <td>17.637705</td>\n",
       "    </tr>\n",
       "    <tr>\n",
       "      <th>std</th>\n",
       "      <td>199.193396</td>\n",
       "      <td>46.984582</td>\n",
       "      <td>46.872670</td>\n",
       "    </tr>\n",
       "    <tr>\n",
       "      <th>min</th>\n",
       "      <td>1.029000</td>\n",
       "      <td>2.084000</td>\n",
       "      <td>0.090000</td>\n",
       "    </tr>\n",
       "    <tr>\n",
       "      <th>25%</th>\n",
       "      <td>5.354000</td>\n",
       "      <td>5.874500</td>\n",
       "      <td>1.597500</td>\n",
       "    </tr>\n",
       "    <tr>\n",
       "      <th>50%</th>\n",
       "      <td>25.067000</td>\n",
       "      <td>12.021500</td>\n",
       "      <td>7.300000</td>\n",
       "    </tr>\n",
       "    <tr>\n",
       "      <th>75%</th>\n",
       "      <td>205.250000</td>\n",
       "      <td>22.849500</td>\n",
       "      <td>23.410000</td>\n",
       "    </tr>\n",
       "    <tr>\n",
       "      <th>max</th>\n",
       "      <td>851.000000</td>\n",
       "      <td>369.345000</td>\n",
       "      <td>503.700000</td>\n",
       "    </tr>\n",
       "  </tbody>\n",
       "</table>\n",
       "</div>"
      ],
      "text/plain": [
       "       Área territorial  População (IBGE/2007)  \\\n",
       "count        122.000000             122.000000   \n",
       "mean         135.209361              24.529328   \n",
       "std          199.193396              46.984582   \n",
       "min            1.029000               2.084000   \n",
       "25%            5.354000               5.874500   \n",
       "50%           25.067000              12.021500   \n",
       "75%          205.250000              22.849500   \n",
       "max          851.000000             369.345000   \n",
       "\n",
       "       Densidade demográfica (hab/km2)  \n",
       "count                       122.000000  \n",
       "mean                         17.637705  \n",
       "std                          46.872670  \n",
       "min                           0.090000  \n",
       "25%                           1.597500  \n",
       "50%                           7.300000  \n",
       "75%                          23.410000  \n",
       "max                         503.700000  "
      ]
     },
     "execution_count": 27,
     "metadata": {},
     "output_type": "execute_result"
    }
   ],
   "source": [
    "df.describe()"
   ]
  },
  {
   "cell_type": "code",
   "execution_count": 31,
   "metadata": {
    "_cell_guid": "1e00d75e-052b-400f-9d09-40947a35a378",
    "_uuid": "0cf7c5097d2016c7a06b1965878db559e063d278",
    "collapsed": true
   },
   "outputs": [
    {
     "ename": "AttributeError",
     "evalue": "'float' object has no attribute 'replace'",
     "output_type": "error",
     "traceback": [
      "\u001b[0;31m---------------------------------------------------------------------------\u001b[0m",
      "\u001b[0;31mAttributeError\u001b[0m                            Traceback (most recent call last)",
      "\u001b[0;32m<ipython-input-31-ec5a87430fb2>\u001b[0m in \u001b[0;36m<module>\u001b[0;34m\u001b[0m\n\u001b[1;32m      8\u001b[0m \u001b[0;34m\u001b[0m\u001b[0m\n\u001b[1;32m      9\u001b[0m \u001b[0;31m# aplique a função de conversão utilizando o método apply na coluna 'Área territorial'\u001b[0m\u001b[0;34m\u001b[0m\u001b[0;34m\u001b[0m\u001b[0m\n\u001b[0;32m---> 10\u001b[0;31m \u001b[0mdf\u001b[0m\u001b[0;34m[\u001b[0m\u001b[0;34m'Densidade demográfica (hab/km2)'\u001b[0m\u001b[0;34m]\u001b[0m \u001b[0;34m=\u001b[0m \u001b[0mdf\u001b[0m\u001b[0;34m[\u001b[0m\u001b[0;34m'Densidade demográfica (hab/km2)'\u001b[0m\u001b[0;34m]\u001b[0m\u001b[0;34m.\u001b[0m\u001b[0mapply\u001b[0m\u001b[0;34m(\u001b[0m\u001b[0mconverter_para_float\u001b[0m\u001b[0;34m)\u001b[0m\u001b[0;34m\u001b[0m\u001b[0m\n\u001b[0m\u001b[1;32m     11\u001b[0m \u001b[0;31m# exiba alguns valores da com valores convertidos\u001b[0m\u001b[0;34m\u001b[0m\u001b[0;34m\u001b[0m\u001b[0m\n",
      "\u001b[0;32m~/Documents/python/programacaods/lib/python3.5/site-packages/pandas/core/series.py\u001b[0m in \u001b[0;36mapply\u001b[0;34m(self, func, convert_dtype, args, **kwds)\u001b[0m\n\u001b[1;32m   3192\u001b[0m             \u001b[0;32melse\u001b[0m\u001b[0;34m:\u001b[0m\u001b[0;34m\u001b[0m\u001b[0m\n\u001b[1;32m   3193\u001b[0m                 \u001b[0mvalues\u001b[0m \u001b[0;34m=\u001b[0m \u001b[0mself\u001b[0m\u001b[0;34m.\u001b[0m\u001b[0mastype\u001b[0m\u001b[0;34m(\u001b[0m\u001b[0mobject\u001b[0m\u001b[0;34m)\u001b[0m\u001b[0;34m.\u001b[0m\u001b[0mvalues\u001b[0m\u001b[0;34m\u001b[0m\u001b[0m\n\u001b[0;32m-> 3194\u001b[0;31m                 \u001b[0mmapped\u001b[0m \u001b[0;34m=\u001b[0m \u001b[0mlib\u001b[0m\u001b[0;34m.\u001b[0m\u001b[0mmap_infer\u001b[0m\u001b[0;34m(\u001b[0m\u001b[0mvalues\u001b[0m\u001b[0;34m,\u001b[0m \u001b[0mf\u001b[0m\u001b[0;34m,\u001b[0m \u001b[0mconvert\u001b[0m\u001b[0;34m=\u001b[0m\u001b[0mconvert_dtype\u001b[0m\u001b[0;34m)\u001b[0m\u001b[0;34m\u001b[0m\u001b[0m\n\u001b[0m\u001b[1;32m   3195\u001b[0m \u001b[0;34m\u001b[0m\u001b[0m\n\u001b[1;32m   3196\u001b[0m         \u001b[0;32mif\u001b[0m \u001b[0mlen\u001b[0m\u001b[0;34m(\u001b[0m\u001b[0mmapped\u001b[0m\u001b[0;34m)\u001b[0m \u001b[0;32mand\u001b[0m \u001b[0misinstance\u001b[0m\u001b[0;34m(\u001b[0m\u001b[0mmapped\u001b[0m\u001b[0;34m[\u001b[0m\u001b[0;36m0\u001b[0m\u001b[0;34m]\u001b[0m\u001b[0;34m,\u001b[0m \u001b[0mSeries\u001b[0m\u001b[0;34m)\u001b[0m\u001b[0;34m:\u001b[0m\u001b[0;34m\u001b[0m\u001b[0m\n",
      "\u001b[0;32mpandas/_libs/src/inference.pyx\u001b[0m in \u001b[0;36mpandas._libs.lib.map_infer\u001b[0;34m()\u001b[0m\n",
      "\u001b[0;32m<ipython-input-31-ec5a87430fb2>\u001b[0m in \u001b[0;36mconverter_para_float\u001b[0;34m(texto)\u001b[0m\n\u001b[1;32m      4\u001b[0m     \u001b[0;31m# devolva um objeto do tipo float\u001b[0m\u001b[0;34m\u001b[0m\u001b[0;34m\u001b[0m\u001b[0m\n\u001b[1;32m      5\u001b[0m     \u001b[0;31m# ou np.NaN (tipo Not a Number do numpy)\u001b[0m\u001b[0;34m\u001b[0m\u001b[0;34m\u001b[0m\u001b[0m\n\u001b[0;32m----> 6\u001b[0;31m     \u001b[0mt\u001b[0m \u001b[0;34m=\u001b[0m \u001b[0mtexto\u001b[0m\u001b[0;34m.\u001b[0m\u001b[0mreplace\u001b[0m\u001b[0;34m(\u001b[0m\u001b[0;34m' '\u001b[0m\u001b[0;34m,\u001b[0m\u001b[0;34m''\u001b[0m\u001b[0;34m)\u001b[0m\u001b[0;34m.\u001b[0m\u001b[0mreplace\u001b[0m\u001b[0;34m(\u001b[0m\u001b[0;34m'.'\u001b[0m\u001b[0;34m,\u001b[0m\u001b[0;34m''\u001b[0m\u001b[0;34m)\u001b[0m\u001b[0;34m.\u001b[0m\u001b[0mreplace\u001b[0m\u001b[0;34m(\u001b[0m\u001b[0;34m','\u001b[0m\u001b[0;34m,\u001b[0m\u001b[0;34m'.'\u001b[0m\u001b[0;34m)\u001b[0m\u001b[0;34m;\u001b[0m\u001b[0;34m\u001b[0m\u001b[0m\n\u001b[0m\u001b[1;32m      7\u001b[0m     \u001b[0;32mreturn\u001b[0m \u001b[0mfloat\u001b[0m\u001b[0;34m(\u001b[0m\u001b[0mt\u001b[0m\u001b[0;34m)\u001b[0m\u001b[0;34m\u001b[0m\u001b[0m\n\u001b[1;32m      8\u001b[0m \u001b[0;34m\u001b[0m\u001b[0m\n",
      "\u001b[0;31mAttributeError\u001b[0m: 'float' object has no attribute 'replace'"
     ]
    }
   ],
   "source": [
    "# faça a conversão do campo 'Área territorial'\n",
    "def converter_para_float(texto):\n",
    "    # faça as operações necessárias e \n",
    "    # devolva um objeto do tipo float\n",
    "    # ou np.NaN (tipo Not a Number do numpy)\n",
    "    t = texto.replace(' ','').replace('.','').replace(',','.');\n",
    "    return float(t)\n",
    "\n",
    "# aplique a função de conversão utilizando o método apply na coluna 'Área territorial'\n",
    "df['Densidade demográfica (hab/km2)'] = df['Densidade demográfica (hab/km2)'].apply(converter_para_float)\n",
    "# exiba alguns valores da com valores convertidos\n"
   ]
  },
  {
   "cell_type": "code",
   "execution_count": 33,
   "metadata": {
    "_cell_guid": "9c812e81-106d-448b-bb79-be8ba722066b",
    "_uuid": "f9ff794098b8d50c3eea39eb22e6a45c6b125fc6",
    "collapsed": true
   },
   "outputs": [],
   "source": [
    "# substitua a coluna pelos valores convertidos\n",
    "\n",
    "\n",
    "# faça o mesmo para a coluna PIB\n",
    "df['PIB per capita (R$)'] = df['PIB per capita (R$)'].apply(converter_para_float)\n"
   ]
  },
  {
   "cell_type": "code",
   "execution_count": 36,
   "metadata": {
    "_cell_guid": "994af11a-8e0b-4c64-97ca-7d94e7015c9e",
    "_uuid": "7ba77abc56ca9b80da57a2e921e2d999e29ef058",
    "collapsed": true
   },
   "outputs": [
    {
     "name": "stdout",
     "output_type": "stream",
     "text": [
      "<class 'pandas.core.frame.DataFrame'>\n",
      "RangeIndex: 122 entries, 0 to 121\n",
      "Data columns (total 8 columns):\n",
      "Município                          122 non-null object\n",
      "Estado                             122 non-null object\n",
      "Área territorial                   122 non-null float64\n",
      "População (IBGE/2007)              122 non-null float64\n",
      "Densidade demográfica (hab/km2)    122 non-null float64\n",
      "PIB (IBGE/2005                     122 non-null object\n",
      "PIB per capita (R$)                122 non-null float64\n",
      "IDH/2000                           122 non-null object\n",
      "dtypes: float64(4), object(4)\n",
      "memory usage: 7.7+ KB\n"
     ]
    }
   ],
   "source": [
    "# imprima novamente as informações das colunas e verifique os tipos\n",
    "\n",
    "df.info()"
   ]
  },
  {
   "cell_type": "code",
   "execution_count": 39,
   "metadata": {},
   "outputs": [],
   "source": [
    "#PIB (IBGE/2005 \n",
    "df['PIB (IBGE/2005'] = df['PIB (IBGE/2005'].apply(converter_para_float)"
   ]
  },
  {
   "cell_type": "code",
   "execution_count": 40,
   "metadata": {
    "_cell_guid": "010de7c2-bc87-464a-9d54-61b039e8fa23",
    "_uuid": "2711b7f94452d33e854b834c7a637babb5c77131",
    "collapsed": true
   },
   "outputs": [
    {
     "data": {
      "text/html": [
       "<div>\n",
       "<style scoped>\n",
       "    .dataframe tbody tr th:only-of-type {\n",
       "        vertical-align: middle;\n",
       "    }\n",
       "\n",
       "    .dataframe tbody tr th {\n",
       "        vertical-align: top;\n",
       "    }\n",
       "\n",
       "    .dataframe thead th {\n",
       "        text-align: right;\n",
       "    }\n",
       "</style>\n",
       "<table border=\"1\" class=\"dataframe\">\n",
       "  <thead>\n",
       "    <tr style=\"text-align: right;\">\n",
       "      <th></th>\n",
       "      <th>Município</th>\n",
       "      <th>Estado</th>\n",
       "      <th>Área territorial</th>\n",
       "      <th>População (IBGE/2007)</th>\n",
       "      <th>Densidade demográfica (hab/km2)</th>\n",
       "      <th>PIB (IBGE/2005</th>\n",
       "      <th>PIB per capita (R$)</th>\n",
       "      <th>IDH/2000</th>\n",
       "    </tr>\n",
       "  </thead>\n",
       "  <tbody>\n",
       "    <tr>\n",
       "      <th>0</th>\n",
       "      <td>Aceguá</td>\n",
       "      <td>Rio Grande do Sul</td>\n",
       "      <td>1.550</td>\n",
       "      <td>4.138</td>\n",
       "      <td>2.66</td>\n",
       "      <td>71638000.0</td>\n",
       "      <td>17266.0</td>\n",
       "      <td>ni</td>\n",
       "    </tr>\n",
       "    <tr>\n",
       "      <th>1</th>\n",
       "      <td>Acrelândia</td>\n",
       "      <td>Acre</td>\n",
       "      <td>1.575</td>\n",
       "      <td>11.520</td>\n",
       "      <td>7.31</td>\n",
       "      <td>114350000.0</td>\n",
       "      <td>9986.0</td>\n",
       "      <td>0,680</td>\n",
       "    </tr>\n",
       "    <tr>\n",
       "      <th>2</th>\n",
       "      <td>Alecrim</td>\n",
       "      <td>Rio Grande do Sul</td>\n",
       "      <td>315.000</td>\n",
       "      <td>7.357</td>\n",
       "      <td>23.35</td>\n",
       "      <td>44373000.0</td>\n",
       "      <td>5944.0</td>\n",
       "      <td>0,743</td>\n",
       "    </tr>\n",
       "    <tr>\n",
       "      <th>3</th>\n",
       "      <td>Almeirim</td>\n",
       "      <td>Pará</td>\n",
       "      <td>72.960</td>\n",
       "      <td>30.903</td>\n",
       "      <td>0.42</td>\n",
       "      <td>462258000.0</td>\n",
       "      <td>13485.0</td>\n",
       "      <td>0,745</td>\n",
       "    </tr>\n",
       "    <tr>\n",
       "      <th>4</th>\n",
       "      <td>Alta Floresta d'Oeste</td>\n",
       "      <td>Rondônia</td>\n",
       "      <td>7.067</td>\n",
       "      <td>23.857</td>\n",
       "      <td>3.37</td>\n",
       "      <td>186812000.0</td>\n",
       "      <td>6525.0</td>\n",
       "      <td>0,715</td>\n",
       "    </tr>\n",
       "  </tbody>\n",
       "</table>\n",
       "</div>"
      ],
      "text/plain": [
       "               Município             Estado  Área territorial  \\\n",
       "0                 Aceguá  Rio Grande do Sul             1.550   \n",
       "1             Acrelândia               Acre             1.575   \n",
       "2                Alecrim  Rio Grande do Sul           315.000   \n",
       "3               Almeirim               Pará            72.960   \n",
       "4  Alta Floresta d'Oeste           Rondônia             7.067   \n",
       "\n",
       "   População (IBGE/2007)  Densidade demográfica (hab/km2)  PIB (IBGE/2005  \\\n",
       "0                  4.138                             2.66      71638000.0   \n",
       "1                 11.520                             7.31     114350000.0   \n",
       "2                  7.357                            23.35      44373000.0   \n",
       "3                 30.903                             0.42     462258000.0   \n",
       "4                 23.857                             3.37     186812000.0   \n",
       "\n",
       "   PIB per capita (R$) IDH/2000  \n",
       "0              17266.0       ni  \n",
       "1               9986.0    0,680  \n",
       "2               5944.0    0,743  \n",
       "3              13485.0    0,745  \n",
       "4               6525.0    0,715  "
      ]
     },
     "execution_count": 40,
     "metadata": {},
     "output_type": "execute_result"
    }
   ],
   "source": [
    "# imprima novamente as primeiras linhas do DataFrame\n",
    "df.head()"
   ]
  },
  {
   "cell_type": "markdown",
   "metadata": {
    "_cell_guid": "0b51b658-ce93-499d-b10f-5f1a25d26011",
    "_uuid": "615a6f315a68fbca217556d6e75dddd22a5ffd4e"
   },
   "source": [
    "## EX03\n",
    "\n"
   ]
  },
  {
   "cell_type": "markdown",
   "metadata": {
    "_cell_guid": "374c37b5-4aa2-4bfa-8be6-669eab27d1a3",
    "_uuid": "b9ac21083f6a4ea233083db91a3842367b80f14b"
   },
   "source": [
    "Crie uma coluna com a sigla dos estados.\n",
    "\n",
    "* crie um set à partir da coluna Estados. Atribua a uma variável chamada __nomes_estados__."
   ]
  },
  {
   "cell_type": "code",
   "execution_count": 41,
   "metadata": {
    "_cell_guid": "46a2d3c6-62e4-4683-8072-06fc077dfc10",
    "_uuid": "d7c65fa4c8e4a6510d4279cb5a2b4f28926fc1e1",
    "collapsed": true
   },
   "outputs": [
    {
     "data": {
      "text/plain": [
       "{'Acre',\n",
       " 'Amapá',\n",
       " 'Amazonas',\n",
       " 'Mato Grosso',\n",
       " 'Mato Grosso do Sul',\n",
       " 'Paraná',\n",
       " 'Pará',\n",
       " 'Rio Grande do Sul',\n",
       " 'Rondônia',\n",
       " 'Roraima',\n",
       " 'Santa Cataria',\n",
       " 'Santa Catarina'}"
      ]
     },
     "execution_count": 41,
     "metadata": {},
     "output_type": "execute_result"
    }
   ],
   "source": [
    "# crie o set e verifique o seu conteúdo\n",
    "Estados = set(df['Estado'])\n",
    "\n",
    "Estados\n",
    "\n",
    "# exiba o set gerado\n"
   ]
  },
  {
   "cell_type": "markdown",
   "metadata": {
    "_cell_guid": "31d26e63-3b8b-4d9b-a872-a3601460c563",
    "_uuid": "44e194136d9c6c8db59c88d7e45af5ce180f6d4e"
   },
   "source": [
    "Você identificou um problema no nome dos estados?\n",
    "Vamos corrigir no final.\n",
    "\n",
    "* crie um dicionário onde o nome completo do estado é a chave e a sigla é o valor: __dic_nomes_siglas__"
   ]
  },
  {
   "cell_type": "code",
   "execution_count": 52,
   "metadata": {
    "_cell_guid": "56d8cadb-4ddb-45be-a6f9-3b0bdc371109",
    "_uuid": "1f371e8ecfa75658283be041b7bc6bd3d6fdc979",
    "collapsed": true
   },
   "outputs": [],
   "source": [
    "# crie o dicionário\n",
    "dic_nomes_siglas = {\n",
    "        \"Acre\": \"AC\",\n",
    "        \"Alagoas\":\"AL\",\n",
    "         \"Amapá\":\"AP\",\n",
    "        \"Amazonas\":\"AM\",\n",
    "        \"Bahia\":\"BA\",\n",
    "        \"Ceará\":\"CE\",\n",
    "        \"Distrito Federal\":\"DF\",\n",
    "        \"Espírito Santo\":\"ES\",\n",
    "        \"Goiás\":\"GO\",\n",
    "        \"Maranhão\":\"MA\",\n",
    "        \"Mato Grosso\":\"MT\",\n",
    "        \"Mato Grosso do Sul\":\"MS\",\n",
    "        \"Minas Gerais\":\"MG\",\n",
    "        \"Pará\":\"PA\",\n",
    "        \"Paraíba\":\"PB\",\n",
    "        \"Paraná\":\"PR\",\n",
    "        \"Pernambuco\":\"PE\",\n",
    "        \"Piauí\":\"PI\",\n",
    "        \"Rio de Janeiro\":\"RJ\",\n",
    "        \"Rio Grande do Norte\":\"RN\",\n",
    "        \"Rio Grande do Sul\":\"RS\",\n",
    "        \"Rondônia\":\"RO\",\n",
    "        \"Roraima\":\"RR\",\n",
    "        \"Santa Catarina\":\"SC\",\n",
    "        \"São Paulo\":\"SP\",\n",
    "        \"Sergipe\":\"SE\",\n",
    "        \"Tocantins\":\"TO\"\n",
    "}"
   ]
  },
  {
   "cell_type": "markdown",
   "metadata": {
    "_cell_guid": "b1aa234c-0638-4691-8257-03714dbf0dc9",
    "_uuid": "08005d6e6fd93135b1c6b0c0845b12c27fabb0a2"
   },
   "source": [
    "* utilize a função map do DataFrame para criar uma nova coluna de siglas à partir dos nomes dos estados. Passe o dicionário criado para a função map. Atribua a Série criada à variável __coluna_siglas_uf__."
   ]
  },
  {
   "cell_type": "code",
   "execution_count": 55,
   "metadata": {
    "_cell_guid": "e5072af4-feb7-49c8-9fe4-5ce9a0828d08",
    "_uuid": "8ab2f735220d0ddf9c9160d4b40bc232a3496987",
    "collapsed": true
   },
   "outputs": [
    {
     "data": {
      "text/html": [
       "<div>\n",
       "<style scoped>\n",
       "    .dataframe tbody tr th:only-of-type {\n",
       "        vertical-align: middle;\n",
       "    }\n",
       "\n",
       "    .dataframe tbody tr th {\n",
       "        vertical-align: top;\n",
       "    }\n",
       "\n",
       "    .dataframe thead th {\n",
       "        text-align: right;\n",
       "    }\n",
       "</style>\n",
       "<table border=\"1\" class=\"dataframe\">\n",
       "  <thead>\n",
       "    <tr style=\"text-align: right;\">\n",
       "      <th></th>\n",
       "      <th>Município</th>\n",
       "      <th>Estado</th>\n",
       "      <th>Área territorial</th>\n",
       "      <th>População (IBGE/2007)</th>\n",
       "      <th>Densidade demográfica (hab/km2)</th>\n",
       "      <th>PIB (IBGE/2005</th>\n",
       "      <th>PIB per capita (R$)</th>\n",
       "      <th>IDH/2000</th>\n",
       "      <th>coluna_siglas_uf</th>\n",
       "    </tr>\n",
       "  </thead>\n",
       "  <tbody>\n",
       "    <tr>\n",
       "      <th>0</th>\n",
       "      <td>Aceguá</td>\n",
       "      <td>Rio Grande do Sul</td>\n",
       "      <td>1.550</td>\n",
       "      <td>4.138</td>\n",
       "      <td>2.66</td>\n",
       "      <td>71638000.0</td>\n",
       "      <td>17266.0</td>\n",
       "      <td>ni</td>\n",
       "      <td>RS</td>\n",
       "    </tr>\n",
       "    <tr>\n",
       "      <th>1</th>\n",
       "      <td>Acrelândia</td>\n",
       "      <td>Acre</td>\n",
       "      <td>1.575</td>\n",
       "      <td>11.520</td>\n",
       "      <td>7.31</td>\n",
       "      <td>114350000.0</td>\n",
       "      <td>9986.0</td>\n",
       "      <td>0,680</td>\n",
       "      <td>AC</td>\n",
       "    </tr>\n",
       "    <tr>\n",
       "      <th>2</th>\n",
       "      <td>Alecrim</td>\n",
       "      <td>Rio Grande do Sul</td>\n",
       "      <td>315.000</td>\n",
       "      <td>7.357</td>\n",
       "      <td>23.35</td>\n",
       "      <td>44373000.0</td>\n",
       "      <td>5944.0</td>\n",
       "      <td>0,743</td>\n",
       "      <td>RS</td>\n",
       "    </tr>\n",
       "    <tr>\n",
       "      <th>3</th>\n",
       "      <td>Almeirim</td>\n",
       "      <td>Pará</td>\n",
       "      <td>72.960</td>\n",
       "      <td>30.903</td>\n",
       "      <td>0.42</td>\n",
       "      <td>462258000.0</td>\n",
       "      <td>13485.0</td>\n",
       "      <td>0,745</td>\n",
       "      <td>PA</td>\n",
       "    </tr>\n",
       "    <tr>\n",
       "      <th>4</th>\n",
       "      <td>Alta Floresta d'Oeste</td>\n",
       "      <td>Rondônia</td>\n",
       "      <td>7.067</td>\n",
       "      <td>23.857</td>\n",
       "      <td>3.37</td>\n",
       "      <td>186812000.0</td>\n",
       "      <td>6525.0</td>\n",
       "      <td>0,715</td>\n",
       "      <td>RO</td>\n",
       "    </tr>\n",
       "  </tbody>\n",
       "</table>\n",
       "</div>"
      ],
      "text/plain": [
       "               Município             Estado  Área territorial  \\\n",
       "0                 Aceguá  Rio Grande do Sul             1.550   \n",
       "1             Acrelândia               Acre             1.575   \n",
       "2                Alecrim  Rio Grande do Sul           315.000   \n",
       "3               Almeirim               Pará            72.960   \n",
       "4  Alta Floresta d'Oeste           Rondônia             7.067   \n",
       "\n",
       "   População (IBGE/2007)  Densidade demográfica (hab/km2)  PIB (IBGE/2005  \\\n",
       "0                  4.138                             2.66      71638000.0   \n",
       "1                 11.520                             7.31     114350000.0   \n",
       "2                  7.357                            23.35      44373000.0   \n",
       "3                 30.903                             0.42     462258000.0   \n",
       "4                 23.857                             3.37     186812000.0   \n",
       "\n",
       "   PIB per capita (R$) IDH/2000 coluna_siglas_uf  \n",
       "0              17266.0       ni               RS  \n",
       "1               9986.0    0,680               AC  \n",
       "2               5944.0    0,743               RS  \n",
       "3              13485.0    0,745               PA  \n",
       "4               6525.0    0,715               RO  "
      ]
     },
     "execution_count": 55,
     "metadata": {},
     "output_type": "execute_result"
    }
   ],
   "source": [
    "# faça o mapeamento dos valores e atribua a : coluna_siglas_uf\n",
    "df['coluna_siglas_uf'] = df['Estado'].map(dic_nomes_siglas)\n",
    "\n",
    "# verifique os 10 primeiros itens criados\n",
    "df.head()"
   ]
  },
  {
   "cell_type": "code",
   "execution_count": 56,
   "metadata": {
    "_cell_guid": "c6ceb8d9-6ddc-48fa-94a9-12ce7d002e77",
    "_uuid": "7a7bcb0b314237a97edd5a5d754cfb26ed51b129",
    "collapsed": true
   },
   "outputs": [
    {
     "name": "stdout",
     "output_type": "stream",
     "text": [
      "<class 'pandas.core.frame.DataFrame'>\n",
      "RangeIndex: 122 entries, 0 to 121\n",
      "Data columns (total 9 columns):\n",
      "Município                          122 non-null object\n",
      "Estado                             122 non-null object\n",
      "Área territorial                   122 non-null float64\n",
      "População (IBGE/2007)              122 non-null float64\n",
      "Densidade demográfica (hab/km2)    122 non-null float64\n",
      "PIB (IBGE/2005                     122 non-null float64\n",
      "PIB per capita (R$)                122 non-null float64\n",
      "IDH/2000                           122 non-null object\n",
      "coluna_siglas_uf                   121 non-null object\n",
      "dtypes: float64(5), object(4)\n",
      "memory usage: 8.7+ KB\n"
     ]
    }
   ],
   "source": [
    "# crie a coluna sigla\n",
    "#feito acima\n",
    "# verifique as informações do dataframe\n",
    "df.info()"
   ]
  },
  {
   "cell_type": "code",
   "execution_count": 58,
   "metadata": {
    "_cell_guid": "4d0418af-8a8d-401c-bf20-34e41cacfb51",
    "_uuid": "044423509d996588bc1b3834f750535f17f232eb",
    "collapsed": true
   },
   "outputs": [
    {
     "data": {
      "text/plain": [
       "0      False\n",
       "1      False\n",
       "2      False\n",
       "3      False\n",
       "4      False\n",
       "5      False\n",
       "6      False\n",
       "7      False\n",
       "8      False\n",
       "9      False\n",
       "10     False\n",
       "11     False\n",
       "12     False\n",
       "13     False\n",
       "14     False\n",
       "15     False\n",
       "16     False\n",
       "17     False\n",
       "18     False\n",
       "19     False\n",
       "20     False\n",
       "21     False\n",
       "22     False\n",
       "23     False\n",
       "24     False\n",
       "25     False\n",
       "26     False\n",
       "27     False\n",
       "28     False\n",
       "29     False\n",
       "       ...  \n",
       "92     False\n",
       "93     False\n",
       "94     False\n",
       "95     False\n",
       "96     False\n",
       "97     False\n",
       "98     False\n",
       "99     False\n",
       "100    False\n",
       "101    False\n",
       "102    False\n",
       "103    False\n",
       "104    False\n",
       "105    False\n",
       "106    False\n",
       "107    False\n",
       "108    False\n",
       "109    False\n",
       "110    False\n",
       "111    False\n",
       "112    False\n",
       "113    False\n",
       "114    False\n",
       "115    False\n",
       "116    False\n",
       "117     True\n",
       "118    False\n",
       "119    False\n",
       "120    False\n",
       "121    False\n",
       "Name: Estado, Length: 122, dtype: bool"
      ]
     },
     "execution_count": 58,
     "metadata": {},
     "output_type": "execute_result"
    }
   ],
   "source": [
    "# verifique quantos registros possuem o nome do estado de Santa Catarina escrito errado \"Santa Cataria\"\n",
    "\n",
    "df['Estado'] == \"Santa Cataria\" "
   ]
  },
  {
   "cell_type": "code",
   "execution_count": null,
   "metadata": {
    "_cell_guid": "a1ccabd9-c5ff-4eb9-bf7c-bda1aa0529ea",
    "_uuid": "7696445696d7e9eb78eb1c6bdd8a1a13f02349f2",
    "collapsed": true
   },
   "outputs": [],
   "source": [
    "# faça a correção dos registros que possuem o nome do estado de Santa Catarina escrito errado\n"
   ]
  },
  {
   "cell_type": "code",
   "execution_count": null,
   "metadata": {
    "_cell_guid": "e8fa02e3-b8cd-4359-bbe7-3e6f8b4fb357",
    "_uuid": "5a65cf270a1ddc18bbaf6621165451a053ee40b5",
    "collapsed": true
   },
   "outputs": [],
   "source": [
    "# verifique, novamente, quantos registros possuem o nome do estado de Santa Catarina escrito errado\n"
   ]
  },
  {
   "cell_type": "markdown",
   "metadata": {
    "_cell_guid": "d7e95bee-f6b4-4fdf-b081-d2f88deee639",
    "_uuid": "6993c3a51684954096c1c576e691ab765ca92789"
   },
   "source": [
    "## EX04\n",
    "\n",
    "Identifique quais municípios possuem 2 ou mais desvios na coluna PIB."
   ]
  },
  {
   "cell_type": "code",
   "execution_count": null,
   "metadata": {
    "_cell_guid": "f3156174-f3e0-437b-a067-c1a84232e3e8",
    "_uuid": "d7b583789ae6ce38f10b63a94ef06491cab6c654",
    "collapsed": true
   },
   "outputs": [],
   "source": [
    "# normalize a coluna PIB em quantidade de desvios padrão\n",
    "\n",
    "# exiba um histograma para as informações de PIB normalizado\n"
   ]
  },
  {
   "cell_type": "code",
   "execution_count": null,
   "metadata": {
    "_cell_guid": "79a7e0cb-04c6-4b5b-aedd-19c850fc242b",
    "_uuid": "2d706dc1346c0cb8671844ce9881b7fa032cfd07",
    "collapsed": true,
    "scrolled": true
   },
   "outputs": [],
   "source": [
    "# quais cidades possuem mais de 2 desvios \n"
   ]
  },
  {
   "cell_type": "markdown",
   "metadata": {
    "_cell_guid": "bd332a8f-cf37-4b1f-b5c2-774a712ab72e",
    "_uuid": "597da108f425bece84a79ebe54bc89b9ab082f51"
   },
   "source": [
    "## EX05\n",
    "\n",
    "Perguntas rápidas."
   ]
  },
  {
   "cell_type": "code",
   "execution_count": null,
   "metadata": {
    "_cell_guid": "131f6daa-ef23-49bd-900e-06e41c4e8abb",
    "_uuid": "04e27776a37ab7dc430a914e1072b2b718b1082c",
    "collapsed": true
   },
   "outputs": [],
   "source": [
    "# quantos registros possuem NaN na coluna IDH/2000?\n"
   ]
  },
  {
   "cell_type": "code",
   "execution_count": null,
   "metadata": {
    "_cell_guid": "c5725eab-eafa-475d-8ad3-d5406946593a",
    "_uuid": "9b199fdf9def43a7393e130e88b7f9eb7ac64fe8",
    "collapsed": true
   },
   "outputs": [],
   "source": [
    "# quantas cidades por estado?\n"
   ]
  },
  {
   "cell_type": "code",
   "execution_count": null,
   "metadata": {
    "_cell_guid": "cbca5114-87a7-4fd5-ae14-2f25bbc8fbf2",
    "_uuid": "6fc6b93e528d3ac71e6229c61de29d72d21eaeba",
    "collapsed": true
   },
   "outputs": [],
   "source": [
    "# faça a ordenação do DataFrame pelo nome do município\n",
    "\n",
    "\n",
    "# a ordenação está correta?\n",
    "#Não. A cidade de Óbidos, acentuada, ficou incorretame"
   ]
  },
  {
   "cell_type": "markdown",
   "metadata": {
    "_cell_guid": "e8774dac-5cb3-429f-9907-cb832867c55a",
    "_uuid": "42a183745072f47eb2e9290a478706bf403d9057"
   },
   "source": []
  }
 ],
 "metadata": {
  "accelerator": "GPU",
  "colab": {
   "collapsed_sections": [],
   "default_view": {},
   "name": "aula_03_01_python_basico.ipynb",
   "private_outputs": true,
   "provenance": [],
   "version": "0.3.2",
   "views": {}
  },
  "kernelspec": {
   "display_name": "Python 3",
   "language": "python",
   "name": "python3"
  },
  "language_info": {
   "codemirror_mode": {
    "name": "ipython",
    "version": 3
   },
   "file_extension": ".py",
   "mimetype": "text/x-python",
   "name": "python",
   "nbconvert_exporter": "python",
   "pygments_lexer": "ipython3",
   "version": "3.5.2"
  }
 },
 "nbformat": 4,
 "nbformat_minor": 2
}
