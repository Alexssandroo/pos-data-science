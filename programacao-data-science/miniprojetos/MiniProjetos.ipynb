{
 "cells": [
  {
   "cell_type": "markdown",
   "metadata": {},
   "source": [
    "# Mini Projetos \n",
    "---"
   ]
  },
  {
   "cell_type": "markdown",
   "metadata": {},
   "source": [
    "** 1 - Buscar tempo atual ** - Obtenha o tempo atual para um determinado CEP / código postal. * Opcional: tente localizar o usuário automaticamente. *"
   ]
  },
  {
   "cell_type": "code",
   "execution_count": 63,
   "metadata": {},
   "outputs": [],
   "source": [
    "import requests as rq\n",
    "import json\n",
    "\n",
    "cep = 61656160\n",
    "woeid = 455830\n",
    "cidade = 'Fortaleza, CE'\n",
    "api_clima = 'http://api.hgbrasil.com/weather/?format=json&woeid='+str(woeid)\n",
    "to_json = lambda x: json.loads(x.text)\n",
    "req = lambda x: rq.get(x)\n",
    "\n",
    "def get_woeid(cidade):\n",
    "    api_yahoo = 'http://query.yahooapis.com/v1/public/yql?q=select%20*%20from%20geo.places%20where%20text%3D%22{cidade}%20name%22&format=json'.format(cidade=cidade)\n",
    "    try:\n",
    "        obj = to_json(req(api_yahoo))\n",
    "        return obj['query']['results']['place']['woeid']\n",
    "    except:\n",
    "        return 'Erro'\n",
    "    \n",
    "def get_cidade(cep):\n",
    "    api_cep = 'http://viacep.com.br/ws/{cep}/json/'.format(cep=cep)\n",
    "    try:\n",
    "        obj = to_json(req(api_cep))\n",
    "        return obj['localidade']+' '+obj['uf']\n",
    "    except:\n",
    "        return 'Erro'\n",
    "\n",
    "def get_clima(cep):\n",
    "    woeid = get_woeid(get_cidade(cep))\n",
    "    api_clima = 'http://api.hgbrasil.com/weather/?format=json&woeid='+str(woeid)\n",
    "    try: \n",
    "        obj = to_json(req(api_clima))\n",
    "        return '{cidade} ({data} - {horas}) || {temperatura}º - {descricao}'.format(cidade=obj['results']['city_name'], \n",
    "                                                                                  data=obj['results']['date'],\n",
    "                                                                                  horas=obj['results']['time'],\n",
    "                                                                                  temperatura=obj['results']['temp'],\n",
    "                                                                                  descricao=obj['results']['description'])\n",
    "    except:\n",
    "        return 'Erro'\n"
   ]
  },
  {
   "cell_type": "code",
   "execution_count": 65,
   "metadata": {},
   "outputs": [
    {
     "data": {
      "text/plain": [
       "'Fortaleza (30/11/2018 - 15:58) || 27º - Tempo nublado'"
      ]
     },
     "execution_count": 65,
     "metadata": {},
     "output_type": "execute_result"
    }
   ],
   "source": [
    "get_clima(60425813)"
   ]
  }
 ],
 "metadata": {
  "kernelspec": {
   "display_name": "Python 3",
   "language": "python",
   "name": "python3"
  },
  "language_info": {
   "codemirror_mode": {
    "name": "ipython",
    "version": 3
   },
   "file_extension": ".py",
   "mimetype": "text/x-python",
   "name": "python",
   "nbconvert_exporter": "python",
   "pygments_lexer": "ipython3",
   "version": "3.5.2"
  }
 },
 "nbformat": 4,
 "nbformat_minor": 2
}
