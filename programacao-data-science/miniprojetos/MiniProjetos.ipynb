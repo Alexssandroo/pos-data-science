{
 "cells": [
  {
   "cell_type": "markdown",
   "metadata": {},
   "source": [
    "# Mini Projetos \n",
    "---"
   ]
  },
  {
   "cell_type": "markdown",
   "metadata": {},
   "source": [
    "#### ** Buscar tempo atual ** - Obtenha o tempo atual para um determinado CEP / código postal. * Opcional: tente localizar o usuário automaticamente. *"
   ]
  },
  {
   "cell_type": "code",
   "execution_count": 10,
   "metadata": {},
   "outputs": [],
   "source": [
    "import requests as rq\n",
    "import json\n",
    "\n",
    "api_clima = 'http://api.hgbrasil.com/weather/?format=json&woeid='+str(woeid)\n",
    "to_json = lambda x: json.loads(x.text)\n",
    "req = lambda x: rq.get(x)\n",
    "\n",
    "def get_woeid(cidade):\n",
    "    api_yahoo = 'http://query.yahooapis.com/v1/public/yql?q=select%20*%20from%20geo.places%20where%20text%3D%22{cidade}%20name%22&format=json'.format(cidade=cidade)\n",
    "    try:\n",
    "        obj = to_json(req(api_yahoo))\n",
    "        return obj['query']['results']['place']['woeid']\n",
    "    except:\n",
    "        return 'Erro'\n",
    "    \n",
    "def get_cidade(cep):\n",
    "    api_cep = 'http://viacep.com.br/ws/{cep}/json/'.format(cep=cep)\n",
    "    try:\n",
    "        obj = to_json(req(api_cep))\n",
    "        return obj['localidade']+' '+obj['uf']\n",
    "    except:\n",
    "        return 'Erro'\n",
    "\n",
    "def get_clima(cep):\n",
    "    woeid = get_woeid(get_cidade(cep))\n",
    "    api_clima = 'http://api.hgbrasil.com/weather/?format=json&woeid='+str(woeid)\n",
    "    try: \n",
    "        obj = to_json(req(api_clima))\n",
    "        return '{cidade} ({data} - {horas}) || {temperatura}º - {descricao}'.format(cidade=obj['results']['city_name'], \n",
    "                                                                                  data=obj['results']['date'],\n",
    "                                                                                  horas=obj['results']['time'],\n",
    "                                                                                  temperatura=obj['results']['temp'],\n",
    "                                                                                  descricao=obj['results']['description'])\n",
    "    except:\n",
    "        return 'Erro'\n"
   ]
  },
  {
   "cell_type": "code",
   "execution_count": 5,
   "metadata": {},
   "outputs": [
    {
     "data": {
      "text/plain": [
       "'Caucaia (02/12/2018 - 09:27) || 25º - Tempestades isoladas'"
      ]
     },
     "execution_count": 5,
     "metadata": {},
     "output_type": "execute_result"
    }
   ],
   "source": [
    "get_clima(61656170)"
   ]
  },
  {
   "cell_type": "markdown",
   "metadata": {},
   "source": [
    "#### ** Classificao ** - Implemente dois tipos de algoritmos de ordenacao: Merge sort e bubble sort."
   ]
  },
  {
   "cell_type": "code",
   "execution_count": 7,
   "metadata": {},
   "outputs": [
    {
     "name": "stdout",
     "output_type": "stream",
     "text": [
      "[-1, 0, 1, 1, 2, 2, 3, 4, 7, 9, 16]\n"
     ]
    }
   ],
   "source": [
    "def merge(listaEsquerda,listaDireita):\n",
    "    temp = []\n",
    "    i,j = 0, 0\n",
    "    while i<len(listaEsquerda) and j< len(listaDireita):\n",
    "        if listaEsquerda[i] <= listaDireita[j]:\n",
    "            temp.append(listaEsquerda[i])\n",
    "            i+=1\n",
    "        else:\n",
    "            temp.append(listaDireita[j])\n",
    "            j+=1\n",
    "\n",
    "    temp += listaEsquerda[i:]\n",
    "    temp += listaDireita[j:]\n",
    "    return temp\n",
    "\n",
    "\n",
    "def mergesort(lista):\n",
    "    if(len(lista) <= 1):\n",
    "        return lista\n",
    "    meio = int(len(lista)/2)\n",
    "    listaEsquerda = mergesort(lista[:meio])\n",
    "    listaDireita = mergesort(lista[meio:])\n",
    "    return merge(listaEsquerda,listaDireita)\n",
    "listaTeste = [1,2,-1,0,9,16,7,3,4,1,2]\n",
    "print(mergesort(listaTeste))"
   ]
  },
  {
   "cell_type": "code",
   "execution_count": 8,
   "metadata": {},
   "outputs": [
    {
     "name": "stdout",
     "output_type": "stream",
     "text": [
      "[-1, 0, 1, 1, 2, 2, 3, 4, 7, 9, 16]\n"
     ]
    }
   ],
   "source": [
    "def bubble_sort(lista):\n",
    "    elementos = len(lista)-1\n",
    "    ordenado = False\n",
    "    while not ordenado:\n",
    "        ordenado = True\n",
    "        for i in range(elementos):\n",
    "            if lista[i] > lista[i+1]:\n",
    "                lista[i], lista[i+1] = lista[i+1],lista[i]\n",
    "                ordenado = False        \n",
    "    return lista\n",
    "listaTeste = [1,2,-1,0,9,16,7,3,4,1,2]\n",
    "print(mergesort(listaTeste))"
   ]
  },
  {
   "cell_type": "markdown",
   "metadata": {},
   "source": [
    "#### ** Checa por palÌndromes ** - Verifica se a string digitada pelo usu·rio È um palÌndromo."
   ]
  },
  {
   "cell_type": "code",
   "execution_count": 9,
   "metadata": {},
   "outputs": [
    {
     "name": "stdout",
     "output_type": "stream",
     "text": [
      "True\n"
     ]
    }
   ],
   "source": [
    "exemplo = \"SOCORRAM ME SUBI NO ONIBUS EM MARROCOS\"\n",
    "\n",
    "def is_palindromo(texto):\n",
    "    removedspaces = texto.replace(\" \", \"\")\n",
    "    if removedspaces[::-1] == removedspaces:\n",
    "        return True\n",
    "    else :\n",
    "        return False\n",
    "    \n",
    "print(is_palindromo(exemplo))"
   ]
  }
 ],
 "metadata": {
  "kernelspec": {
   "display_name": "Python 3",
   "language": "python",
   "name": "python3"
  },
  "language_info": {
   "codemirror_mode": {
    "name": "ipython",
    "version": 3
   },
   "file_extension": ".py",
   "mimetype": "text/x-python",
   "name": "python",
   "nbconvert_exporter": "python",
   "pygments_lexer": "ipython3",
   "version": "3.6.6"
  }
 },
 "nbformat": 4,
 "nbformat_minor": 2
}
