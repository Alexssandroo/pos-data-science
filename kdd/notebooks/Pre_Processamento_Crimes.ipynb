{
 "cells": [
  {
   "cell_type": "code",
   "execution_count": 2,
   "metadata": {},
   "outputs": [],
   "source": [
    "import pandas as pd\n",
    "import numpy as np\n",
    "import matplotlib.pyplot as plt \n",
    "import seaborn as sns "
   ]
  },
  {
   "cell_type": "code",
   "execution_count": 10,
   "metadata": {},
   "outputs": [],
   "source": [
    "df = pd.read_csv('../data/Crime_Data.csv', parse_dates = ['Occurred Date', 'Reported Date'])"
   ]
  },
  {
   "cell_type": "code",
   "execution_count": 8,
   "metadata": {},
   "outputs": [
    {
     "name": "stdout",
     "output_type": "stream",
     "text": [
      "<class 'pandas.core.frame.DataFrame'>\n",
      "RangeIndex: 520286 entries, 0 to 520285\n",
      "Data columns (total 11 columns):\n",
      "Report Number                  520286 non-null int64\n",
      "Occurred Date                  520284 non-null datetime64[ns]\n",
      "Occurred Time                  520284 non-null float64\n",
      "Reported Date                  520286 non-null object\n",
      "Reported Time                  520284 non-null float64\n",
      "Crime Subcategory              520024 non-null object\n",
      "Primary Offense Description    520286 non-null object\n",
      "Precinct                       520280 non-null object\n",
      "Sector                         516963 non-null object\n",
      "Beat                           517010 non-null object\n",
      "Neighborhood                   520286 non-null object\n",
      "dtypes: datetime64[ns](1), float64(2), int64(1), object(7)\n",
      "memory usage: 43.7+ MB\n"
     ]
    }
   ],
   "source": [
    "df.info()"
   ]
  },
  {
   "cell_type": "code",
   "execution_count": 14,
   "metadata": {},
   "outputs": [
    {
     "data": {
      "text/plain": [
       "Report Number                  0.000000\n",
       "Occurred Date                  0.000004\n",
       "Occurred Time                  0.000004\n",
       "Reported Date                  0.000000\n",
       "Reported Time                  0.000004\n",
       "Crime Subcategory              0.000504\n",
       "Primary Offense Description    0.000000\n",
       "Precinct                       0.000012\n",
       "Sector                         0.006387\n",
       "Beat                           0.006297\n",
       "Neighborhood                   0.000000\n",
       "dtype: float64"
      ]
     },
     "execution_count": 14,
     "metadata": {},
     "output_type": "execute_result"
    }
   ],
   "source": [
    "1-(df.count()/len(df))"
   ]
  },
  {
   "cell_type": "code",
   "execution_count": 15,
   "metadata": {},
   "outputs": [],
   "source": [
    "df.dropna(inplace=True)"
   ]
  },
  {
   "cell_type": "code",
   "execution_count": 33,
   "metadata": {},
   "outputs": [
    {
     "data": {
      "text/plain": [
       "<matplotlib.axes._subplots.AxesSubplot at 0x7f7ad87d22e8>"
      ]
     },
     "execution_count": 33,
     "metadata": {},
     "output_type": "execute_result"
    },
    {
     "data": {
      "image/png": "[encoded data removed]",
      "text/plain": [
       "<Figure size 432x288 with 1 Axes>"
      ]
     },
     "metadata": {
      "needs_background": "light"
     },
     "output_type": "display_data"
    }
   ],
   "source": [
    "sns.countplot(x=\"Sector\",data=df)"
   ]
  },
  {
   "cell_type": "code",
   "execution_count": 25,
   "metadata": {},
   "outputs": [
    {
     "data": {
      "text/plain": [
       "Precinct   Sector\n",
       "EAST       C         22473\n",
       "           E         34820\n",
       "           G         19715\n",
       "NORTH      B         37652\n",
       "           J         28529\n",
       "           L         31615\n",
       "           N         28979\n",
       "           U         40377\n",
       "SOUTH      O         15531\n",
       "           R         32072\n",
       "           S         26349\n",
       "SOUTHWEST  F         23405\n",
       "           W         25564\n",
       "WEST       D         35236\n",
       "           K         37736\n",
       "           M         42715\n",
       "           Q         33926\n",
       "Name: Report Number, dtype: int64"
      ]
     },
     "execution_count": 25,
     "metadata": {},
     "output_type": "execute_result"
    }
   ],
   "source": [
    "df.groupby(['Precinct', 'Sector'])['Report Number'].count()"
   ]
  },
  {
   "cell_type": "code",
   "execution_count": 34,
   "metadata": {},
   "outputs": [
    {
     "data": {
      "text/plain": [
       "0        1975-12-16\n",
       "2        1979-01-28\n",
       "3        1981-08-22\n",
       "4        1981-02-14\n",
       "5        1988-09-29\n",
       "6        1993-10-08\n",
       "7        1994-06-08\n",
       "8        1996-12-08\n",
       "10       2000-05-12\n",
       "11       2001-01-15\n",
       "12       2002-03-27\n",
       "13       2002-12-08\n",
       "14       2002-12-28\n",
       "15       2004-05-23\n",
       "16       2004-06-06\n",
       "17       2004-01-16\n",
       "18       2004-08-17\n",
       "20       2004-11-26\n",
       "21       2005-01-14\n",
       "22       2005-05-20\n",
       "23       2005-05-29\n",
       "24       2005-10-12\n",
       "25       2005-12-06\n",
       "26       2005-12-06\n",
       "27       2006-04-23\n",
       "28       2006-01-01\n",
       "29       2006-05-17\n",
       "30       2006-05-21\n",
       "31       2006-06-03\n",
       "32       2006-06-07\n",
       "            ...    \n",
       "520256   2019-03-20\n",
       "520257   2019-03-16\n",
       "520258   2019-03-19\n",
       "520259   2019-03-20\n",
       "520260   2019-03-18\n",
       "520261   2019-01-08\n",
       "520262   2019-03-20\n",
       "520263   2019-01-08\n",
       "520264   2019-03-19\n",
       "520265   2019-03-19\n",
       "520266   2019-01-01\n",
       "520267   2019-03-14\n",
       "520268   2019-03-20\n",
       "520269   2019-03-20\n",
       "520270   2019-03-19\n",
       "520271   2019-03-20\n",
       "520272   2019-03-19\n",
       "520273   2019-03-20\n",
       "520274   2019-03-20\n",
       "520275   2019-03-20\n",
       "520276   2019-03-20\n",
       "520277   2019-01-08\n",
       "520278   2019-03-20\n",
       "520279   2019-03-20\n",
       "520280   2019-03-20\n",
       "520281   2019-03-20\n",
       "520282   2019-03-20\n",
       "520283   2019-03-20\n",
       "520284   2019-03-20\n",
       "520285   2019-03-19\n",
       "Name: Occurred Date, Length: 516694, dtype: datetime64[ns]"
      ]
     },
     "execution_count": 34,
     "metadata": {},
     "output_type": "execute_result"
    }
   ],
   "source": [
    "df['Occurred Date']."
   ]
  }
 ],
 "metadata": {
  "kernelspec": {
   "display_name": "Python 3",
   "language": "python",
   "name": "python3"
  },
  "language_info": {
   "codemirror_mode": {
    "name": "ipython",
    "version": 3
   },
   "file_extension": ".py",
   "mimetype": "text/x-python",
   "name": "python",
   "nbconvert_exporter": "python",
   "pygments_lexer": "ipython3",
   "version": "3.7.3"
  }
 },
 "nbformat": 4,
 "nbformat_minor": 2
}
