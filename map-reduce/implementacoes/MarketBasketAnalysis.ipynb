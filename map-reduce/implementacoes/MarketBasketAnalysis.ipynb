{
 "cells": [
  {
   "cell_type": "markdown",
   "metadata": {},
   "source": [
    "# Exercicio Market Basket Analysis"
   ]
  },
  {
   "cell_type": "code",
   "execution_count": 14,
   "metadata": {},
   "outputs": [
    {
     "name": "stderr",
     "output_type": "stream",
     "text": [
      "usage: usage: ipykernel_launcher.py [options] [input files]\n",
      "ipykernel_launcher.py: error: unrecognized arguments: -f\n"
     ]
    },
    {
     "ename": "SystemExit",
     "evalue": "2",
     "output_type": "error",
     "traceback": [
      "An exception has occurred, use %tb to see the full traceback.\n",
      "\u001b[1;31mSystemExit\u001b[0m\u001b[1;31m:\u001b[0m 2\n"
     ]
    },
    {
     "name": "stderr",
     "output_type": "stream",
     "text": [
      "c:\\users\\posgrad\\desktop\\pos-data-science-master\\pos-data-science-master\\map-reduce\\implementacoes\\venv\\lib\\site-packages\\IPython\\core\\interactiveshell.py:2969: UserWarning: To exit: use 'exit', 'quit', or Ctrl-D.\n",
      "  warn(\"To exit: use 'exit', 'quit', or Ctrl-D.\", stacklevel=1)\n"
     ]
    }
   ],
   "source": [
    "from mrjob.job import MRJob \n",
    "class MRMarketBasketAnalysis(MRJob):\n",
    "    def generate_combinations(self, items):\n",
    "        result = []\n",
    "        \n",
    "        items.sort()\n",
    "        \n",
    "        for i in range(len(items)):\n",
    "            for j in range(i+1, len(items)):\n",
    "                a = items[i]\n",
    "                b = items[j]\n",
    "                result.append((a, b))\n",
    "        return result\n",
    "    def mapper(self, key, line):\n",
    "        items = line.split(',')\n",
    "        \n",
    "        combinations = self.generate_combinations(items)\n",
    "        \n",
    "        for combination in combinations:\n",
    "            yield combination, 1\n",
    "    \n",
    "    def combine(self, key, values): \n",
    "        yield key , sum(values)\n",
    "        \n",
    "    def reduce(self, key, values):\n",
    "        yield key , sum(values)\n",
    "        \n",
    "if __name__ == '__main__':\n",
    "    MRMarketBasketAnalysis.run()\n"
   ]
  }
 ],
 "metadata": {
  "kernelspec": {
   "display_name": "Python 3",
   "language": "python",
   "name": "python3"
  },
  "language_info": {
   "codemirror_mode": {
    "name": "ipython",
    "version": 3
   },
   "file_extension": ".py",
   "mimetype": "text/x-python",
   "name": "python",
   "nbconvert_exporter": "python",
   "pygments_lexer": "ipython3",
   "version": "3.6.0"
  }
 },
 "nbformat": 4,
 "nbformat_minor": 2
}
