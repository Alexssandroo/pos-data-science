{
 "cells": [
  {
   "cell_type": "markdown",
   "metadata": {},
   "source": [
    "# TRABALHO FINAL"
   ]
  },
  {
   "cell_type": "markdown",
   "metadata": {},
   "source": [
    "### Tarefa 3\n",
    "\n",
    "> Leia os dados do arquivo data1.csv A classe de cada dado é o valor da última coluna (0 ou 1).\n",
    "\n",
    "-  faca o PCA dos dados (sem a última coluna). Se você quiser que os dados transformados tenham 80% da variância original, quantas dimensões do PCA você precisa manter? Gere os dados transformados mantendo 80% da variância. (Atenção este passo não é 100% correto do ponto de vista de aprendizado de maquina. Não repita este passo em outras atividades). Considere as primeiras 200 linhas dos dados como o conjunto de treino, e as 276 ultimas como o conjunto de dados\n",
    "-  Treine uma regressão logística no conjunto de treino dos dados originais e nos dados transformados. Qual a taxa de acerto no conjunto de teste nas 2 condições (sem e com PCA)?\n",
    "-  Treine o LDA, ExtraTreesClassifier e F-Test nos conjuntos de treino com e sem PCA e teste nos respectivos conjuntos de testes. Qual a acurácia nas 2 condições?\n",
    "- Qual a melhor combinação de classificador e PCA ou não?"
   ]
  },
  {
   "cell_type": "code",
   "execution_count": 2,
   "metadata": {},
   "outputs": [],
   "source": [
    "import pandas as pd\n",
    "import numpy as np\n",
    "from sklearn.model_selection import train_test_split\n",
    "from sklearn.preprocessing import LabelEncoder\n",
    "from sklearn.preprocessing import MinMaxScaler\n",
    "from sklearn.metrics import confusion_matrix, accuracy_score\n",
    "from sklearn.svm import SVC\n",
    "from sklearn.ensemble import ExtraTreesClassifier\n",
    "from sklearn.ensemble import RandomForestClassifier\n",
    "from sklearn.linear_model import LogisticRegression\n",
    "from sklearn.decomposition import PCA\n",
    "from sklearn.discriminant_analysis import LinearDiscriminantAnalysis\n",
    "from sklearn.feature_selection import SelectFromModel"
   ]
  },
  {
   "cell_type": "code",
   "execution_count": 3,
   "metadata": {},
   "outputs": [],
   "source": [
    "df = pd.read_csv('../data/data1.csv')"
   ]
  },
  {
   "cell_type": "code",
   "execution_count": 4,
   "metadata": {},
   "outputs": [],
   "source": [
    "previsores = df.drop(columns='clase')\n",
    "classe  = df['clase']"
   ]
  },
  {
   "cell_type": "code",
   "execution_count": 5,
   "metadata": {},
   "outputs": [],
   "source": [
    "X_treinamento, X_teste, y_treinamento, y_teste = train_test_split(previsores.values,\n",
    "                                                                  classe.values,\n",
    "                                                                  test_size = 276,\n",
    "                                                                  random_state = 0)"
   ]
  },
  {
   "cell_type": "code",
   "execution_count": 7,
   "metadata": {},
   "outputs": [
    {
     "data": {
      "text/plain": [
       "0.7753623188405797"
      ]
     },
     "execution_count": 7,
     "metadata": {},
     "output_type": "execute_result"
    }
   ],
   "source": [
    "pca = PCA(n_components = 0.80)\n",
    "pca.fit(X_treinamento)\n",
    "previsores_treinamento_pca = pca.transform(X_treinamento)\n",
    "previsores_teste_pca = pca.transform(X_teste)\n",
    "componentes_pca = pca.explained_variance_ratio_\n",
    "componentes_pca.shape\n",
    "\n",
    "X_treinamento_pca= previsores_treinamento_pca\n",
    "X_teste_pca = previsores_teste_pca\n",
    "\n",
    "svm_pca = SVC(gamma='auto')\n",
    "svm_pca.fit(X_treinamento_pca,y_treinamento )\n",
    "previsoes_pca = svm_pca.predict(X_teste_pca)\n",
    "taxa_acerto_pca = accuracy_score(y_teste, previsoes_pca)\n",
    "taxa_acerto_pca"
   ]
  },
  {
   "cell_type": "code",
   "execution_count": 9,
   "metadata": {},
   "outputs": [
    {
     "data": {
      "text/plain": [
       "0.7572463768115942"
      ]
     },
     "execution_count": 9,
     "metadata": {},
     "output_type": "execute_result"
    }
   ],
   "source": [
    "#LogisticRegression\n",
    "# Sem PCA\n",
    "lr = LogisticRegression(solver='lbfgs')\n",
    "lr.fit(X_treinamento, y_treinamento)\n",
    "previsoes_lr = lr.predict(X_teste)\n",
    "taxa_acerto_lr = accuracy_score(y_teste, previsoes_lr)\n",
    "taxa_acerto_lr"
   ]
  },
  {
   "cell_type": "code",
   "execution_count": 10,
   "metadata": {},
   "outputs": [
    {
     "data": {
      "text/plain": [
       "0.7318840579710145"
      ]
     },
     "execution_count": 10,
     "metadata": {},
     "output_type": "execute_result"
    }
   ],
   "source": [
    "# LogisticRegression\n",
    "# Com PCA\n",
    "lr_pca = LogisticRegression(solver='lbfgs')\n",
    "lr_pca.fit(previsores_treinamento_pca, y_treinamento)\n",
    "previsoes_lr_pca = lr_pca.predict(previsores_teste_pca)\n",
    "taxa_acerto_lr_pca = accuracy_score(y_teste, previsoes_lr_pca)\n",
    "taxa_acerto_lr_pca"
   ]
  },
  {
   "cell_type": "code",
   "execution_count": 14,
   "metadata": {},
   "outputs": [
    {
     "data": {
      "text/plain": [
       "0.8260869565217391"
      ]
     },
     "execution_count": 14,
     "metadata": {},
     "output_type": "execute_result"
    }
   ],
   "source": [
    "#ExtraTreesClassifier\n",
    "# sem PCA\n",
    "forest = ExtraTreesClassifier(n_estimators=100)\n",
    "featSelec = SelectFromModel(forest, threshold='median')\n",
    "X_treinamento_forest = featSelec.fit_transform(X_treinamento, y_treinamento)\n",
    "X_teste_forest = featSelec.transform(X_teste)\n",
    "forest.fit(X_treinamento_forest, y_treinamento)\n",
    "previsoes_forest = forest.predict(X_teste_forest)\n",
    "taxa_acerto_forest = accuracy_score(y_teste, previsoes_forest)\n",
    "taxa_acerto_forest"
   ]
  },
  {
   "cell_type": "code",
   "execution_count": null,
   "metadata": {},
   "outputs": [],
   "source": [
    "X_treinamento.shape"
   ]
  },
  {
   "cell_type": "code",
   "execution_count": 15,
   "metadata": {},
   "outputs": [
    {
     "data": {
      "text/plain": [
       "0.5362318840579711"
      ]
     },
     "execution_count": 15,
     "metadata": {},
     "output_type": "execute_result"
    }
   ],
   "source": [
    "#ExtraTreesClassifier\n",
    "# com PCA\n",
    "forest_pca = ExtraTreesClassifier(n_estimators=100)\n",
    "featSelec_pca = SelectFromModel(forest_pca, threshold='median')\n",
    "X_treinamento_forest_pca = featSelec.fit_transform(X_treinamento, y_treinamento)\n",
    "X_teste_forest_pca = featSelec.transform(X_teste)\n",
    "forest_pca.fit(X_treinamento_forest_pca, y_treinamento)\n",
    "previsoes_forest_pca = forest.predict(X_teste_forest_pca)\n",
    "taxa_acerto_forest_pca = accuracy_score(y_teste, previsoes_forest_pca)\n",
    "taxa_acerto_forest_pca"
   ]
  },
  {
   "cell_type": "code",
   "execution_count": 22,
   "metadata": {},
   "outputs": [
    {
     "name": "stderr",
     "output_type": "stream",
     "text": [
      "/home/alexssandroos/Documents/datascience/venv/lib/python3.7/site-packages/sklearn/linear_model/logistic.py:433: FutureWarning: Default solver will be changed to 'lbfgs' in 0.22. Specify a solver to silence this warning.\n",
      "  FutureWarning)\n"
     ]
    },
    {
     "data": {
      "text/plain": [
       "0.6231884057971014"
      ]
     },
     "execution_count": 22,
     "metadata": {},
     "output_type": "execute_result"
    }
   ],
   "source": [
    "from sklearn.discriminant_analysis import LinearDiscriminantAnalysis\n",
    "lda = LinearDiscriminantAnalysis(n_components = 80)\n",
    "previsores_treinamento = lda.fit_transform(X_treinamento, y_treinamento)\n",
    "previsores_teste = lda.transform(X_teste)\n",
    "\n",
    "X_treinamento_lda = previsores_treinamento\n",
    "X_teste_lda = previsores_teste\n",
    "\n",
    "logreg_lda = LogisticRegression()\n",
    "logreg_lda.fit(X_treinamento_lda, y_treinamento)\n",
    "y_pred = logreg_lda.predict(X_teste_lda)\n",
    "taxa_acerto = accuracy_score(y_teste, y_pred)\n",
    "taxa_acerto"
   ]
  }
 ],
 "metadata": {
  "kernelspec": {
   "display_name": "Python 3",
   "language": "python",
   "name": "python3"
  },
  "language_info": {
   "codemirror_mode": {
    "name": "ipython",
    "version": 3
   },
   "file_extension": ".py",
   "mimetype": "text/x-python",
   "name": "python",
   "nbconvert_exporter": "python",
   "pygments_lexer": "ipython3",
   "version": "3.7.3"
  }
 },
 "nbformat": 4,
 "nbformat_minor": 2
}
